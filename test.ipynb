{
 "cells": [
  {
   "cell_type": "code",
   "execution_count": 81,
   "metadata": {},
   "outputs": [],
   "source": [
    "from tqdm import tqdm\n",
    "import pandas as pd\n",
    "tqdm.pandas()"
   ]
  },
  {
   "cell_type": "code",
   "execution_count": 82,
   "metadata": {},
   "outputs": [
    {
     "name": "stderr",
     "output_type": "stream",
     "text": [
      "C:\\Users\\abhena\\AppData\\Local\\Temp\\ipykernel_21212\\2366480377.py:1: DtypeWarning: Columns (23,53,61,62) have mixed types. Specify dtype option on import or set low_memory=False.\n",
      "  lfm1 = pd.read_csv('../Vendor/LFM1.csv')\n"
     ]
    }
   ],
   "source": [
    "lfm1 = pd.read_csv('../Vendor/LFM1.csv')"
   ]
  },
  {
   "cell_type": "code",
   "execution_count": 83,
   "metadata": {},
   "outputs": [
    {
     "name": "stderr",
     "output_type": "stream",
     "text": [
      "C:\\Users\\abhena\\AppData\\Local\\Temp\\ipykernel_21212\\3013073598.py:1: DtypeWarning: Columns (12,19,44,59) have mixed types. Specify dtype option on import or set low_memory=False.\n",
      "  lfb1 = pd.read_csv('../Vendor/LFB1.csv')\n"
     ]
    }
   ],
   "source": [
    "lfb1 = pd.read_csv('../Vendor/LFB1.csv')"
   ]
  },
  {
   "cell_type": "code",
   "execution_count": 84,
   "metadata": {},
   "outputs": [
    {
     "data": {
      "text/html": [
       "<div>\n",
       "<style scoped>\n",
       "    .dataframe tbody tr th:only-of-type {\n",
       "        vertical-align: middle;\n",
       "    }\n",
       "\n",
       "    .dataframe tbody tr th {\n",
       "        vertical-align: top;\n",
       "    }\n",
       "\n",
       "    .dataframe thead th {\n",
       "        text-align: right;\n",
       "    }\n",
       "</style>\n",
       "<table border=\"1\" class=\"dataframe\">\n",
       "  <thead>\n",
       "    <tr style=\"text-align: right;\">\n",
       "      <th></th>\n",
       "      <th>Supplier</th>\n",
       "      <th>Last PO Date</th>\n",
       "      <th>Purch. Organization</th>\n",
       "      <th>Created On</th>\n",
       "      <th>Created By</th>\n",
       "      <th>Purch. block for purchasing organization</th>\n",
       "      <th>Delete flag for purchasing organization</th>\n",
       "      <th>ABC indicator</th>\n",
       "      <th>Order currency</th>\n",
       "      <th>Salesperson</th>\n",
       "      <th>...</th>\n",
       "      <th>Activity Profile</th>\n",
       "      <th>Transportation Chain</th>\n",
       "      <th>Staging Time</th>\n",
       "      <th>MSME Status</th>\n",
       "      <th>MSME Number</th>\n",
       "      <th>MSME Issue Date</th>\n",
       "      <th>Import/Export Code</th>\n",
       "      <th>Tin Number</th>\n",
       "      <th>ABAC Status</th>\n",
       "      <th>ABAC Reason</th>\n",
       "    </tr>\n",
       "  </thead>\n",
       "  <tbody>\n",
       "    <tr>\n",
       "      <th>0</th>\n",
       "      <td>1000000</td>\n",
       "      <td>6/21/2024</td>\n",
       "      <td>5100</td>\n",
       "      <td>4/17/2014</td>\n",
       "      <td>BATCH_MM</td>\n",
       "      <td>NaN</td>\n",
       "      <td>NaN</td>\n",
       "      <td>NaN</td>\n",
       "      <td>INR</td>\n",
       "      <td>NaN</td>\n",
       "      <td>...</td>\n",
       "      <td>NaN</td>\n",
       "      <td>NaN</td>\n",
       "      <td>0</td>\n",
       "      <td>0.0</td>\n",
       "      <td>NO MSME</td>\n",
       "      <td>9/15/2023</td>\n",
       "      <td>NaN</td>\n",
       "      <td>NaN</td>\n",
       "      <td>NaN</td>\n",
       "      <td>NaN</td>\n",
       "    </tr>\n",
       "    <tr>\n",
       "      <th>1</th>\n",
       "      <td>1000001</td>\n",
       "      <td>1/21/2025</td>\n",
       "      <td>5100</td>\n",
       "      <td>4/17/2014</td>\n",
       "      <td>BATCH_MM</td>\n",
       "      <td>NaN</td>\n",
       "      <td>NaN</td>\n",
       "      <td>NaN</td>\n",
       "      <td>INR</td>\n",
       "      <td>NaN</td>\n",
       "      <td>...</td>\n",
       "      <td>NaN</td>\n",
       "      <td>NaN</td>\n",
       "      <td>0</td>\n",
       "      <td>0.0</td>\n",
       "      <td>NaN</td>\n",
       "      <td>NaN</td>\n",
       "      <td>NaN</td>\n",
       "      <td>NaN</td>\n",
       "      <td>NaN</td>\n",
       "      <td>NaN</td>\n",
       "    </tr>\n",
       "    <tr>\n",
       "      <th>2</th>\n",
       "      <td>1000001</td>\n",
       "      <td>1/21/2025</td>\n",
       "      <td>5500</td>\n",
       "      <td>7/23/2024</td>\n",
       "      <td>BATCH_MM</td>\n",
       "      <td>NaN</td>\n",
       "      <td>NaN</td>\n",
       "      <td>NaN</td>\n",
       "      <td>INR</td>\n",
       "      <td>NaN</td>\n",
       "      <td>...</td>\n",
       "      <td>NaN</td>\n",
       "      <td>NaN</td>\n",
       "      <td>0</td>\n",
       "      <td>0.0</td>\n",
       "      <td>NaN</td>\n",
       "      <td>NaN</td>\n",
       "      <td>NaN</td>\n",
       "      <td>NaN</td>\n",
       "      <td>NaN</td>\n",
       "      <td>NaN</td>\n",
       "    </tr>\n",
       "    <tr>\n",
       "      <th>3</th>\n",
       "      <td>1000002</td>\n",
       "      <td>NO PO SINCE 01.01.2020</td>\n",
       "      <td>5100</td>\n",
       "      <td>4/17/2014</td>\n",
       "      <td>BATCH_MM</td>\n",
       "      <td>X</td>\n",
       "      <td>X</td>\n",
       "      <td>NaN</td>\n",
       "      <td>INR</td>\n",
       "      <td>NaN</td>\n",
       "      <td>...</td>\n",
       "      <td>NaN</td>\n",
       "      <td>NaN</td>\n",
       "      <td>0</td>\n",
       "      <td>0.0</td>\n",
       "      <td>NaN</td>\n",
       "      <td>NaN</td>\n",
       "      <td>NaN</td>\n",
       "      <td>NaN</td>\n",
       "      <td>NaN</td>\n",
       "      <td>NaN</td>\n",
       "    </tr>\n",
       "    <tr>\n",
       "      <th>4</th>\n",
       "      <td>1000003</td>\n",
       "      <td>NO PO SINCE 01.01.2020</td>\n",
       "      <td>5100</td>\n",
       "      <td>4/17/2014</td>\n",
       "      <td>BATCH_MM</td>\n",
       "      <td>X</td>\n",
       "      <td>X</td>\n",
       "      <td>NaN</td>\n",
       "      <td>INR</td>\n",
       "      <td>NaN</td>\n",
       "      <td>...</td>\n",
       "      <td>NaN</td>\n",
       "      <td>NaN</td>\n",
       "      <td>0</td>\n",
       "      <td>0.0</td>\n",
       "      <td>NaN</td>\n",
       "      <td>NaN</td>\n",
       "      <td>NaN</td>\n",
       "      <td>NaN</td>\n",
       "      <td>NaN</td>\n",
       "      <td>NaN</td>\n",
       "    </tr>\n",
       "  </tbody>\n",
       "</table>\n",
       "<p>5 rows × 65 columns</p>\n",
       "</div>"
      ],
      "text/plain": [
       "   Supplier            Last PO Date  Purch. Organization Created On  \\\n",
       "0   1000000               6/21/2024                 5100  4/17/2014   \n",
       "1   1000001               1/21/2025                 5100  4/17/2014   \n",
       "2   1000001               1/21/2025                 5500  7/23/2024   \n",
       "3   1000002  NO PO SINCE 01.01.2020                 5100  4/17/2014   \n",
       "4   1000003  NO PO SINCE 01.01.2020                 5100  4/17/2014   \n",
       "\n",
       "  Created By Purch. block for purchasing organization  \\\n",
       "0   BATCH_MM                                      NaN   \n",
       "1   BATCH_MM                                      NaN   \n",
       "2   BATCH_MM                                      NaN   \n",
       "3   BATCH_MM                                        X   \n",
       "4   BATCH_MM                                        X   \n",
       "\n",
       "  Delete flag for purchasing organization  ABC indicator Order currency  \\\n",
       "0                                     NaN            NaN            INR   \n",
       "1                                     NaN            NaN            INR   \n",
       "2                                     NaN            NaN            INR   \n",
       "3                                       X            NaN            INR   \n",
       "4                                       X            NaN            INR   \n",
       "\n",
       "   Salesperson  ...  Activity Profile  Transportation Chain Staging Time  \\\n",
       "0          NaN  ...               NaN                   NaN            0   \n",
       "1          NaN  ...               NaN                   NaN            0   \n",
       "2          NaN  ...               NaN                   NaN            0   \n",
       "3          NaN  ...               NaN                   NaN            0   \n",
       "4          NaN  ...               NaN                   NaN            0   \n",
       "\n",
       "  MSME Status MSME Number MSME Issue Date  Import/Export Code Tin Number  \\\n",
       "0         0.0     NO MSME       9/15/2023                 NaN        NaN   \n",
       "1         0.0         NaN             NaN                 NaN        NaN   \n",
       "2         0.0         NaN             NaN                 NaN        NaN   \n",
       "3         0.0         NaN             NaN                 NaN        NaN   \n",
       "4         0.0         NaN             NaN                 NaN        NaN   \n",
       "\n",
       "   ABAC Status  ABAC Reason  \n",
       "0          NaN          NaN  \n",
       "1          NaN          NaN  \n",
       "2          NaN          NaN  \n",
       "3          NaN          NaN  \n",
       "4          NaN          NaN  \n",
       "\n",
       "[5 rows x 65 columns]"
      ]
     },
     "execution_count": 84,
     "metadata": {},
     "output_type": "execute_result"
    }
   ],
   "source": [
    "lfm1.head()"
   ]
  },
  {
   "cell_type": "code",
   "execution_count": 85,
   "metadata": {},
   "outputs": [],
   "source": [
    "def checkActive(table, row, *cols):\n",
    "    res = False\n",
    "    for col in cols:\n",
    "        if pd.isnull(row[col]) or str(row[col]).strip() == '' or str(row[col]).lower() == 'nan':\n",
    "            pass\n",
    "        else:\n",
    "            res = res or row[col] == 'X'\n",
    "    return not res"
   ]
  },
  {
   "cell_type": "code",
   "execution_count": 86,
   "metadata": {},
   "outputs": [
    {
     "name": "stderr",
     "output_type": "stream",
     "text": [
      "  0%|          | 0/16460 [00:00<?, ?it/s]"
     ]
    },
    {
     "name": "stderr",
     "output_type": "stream",
     "text": [
      "100%|██████████| 16460/16460 [00:00<00:00, 68227.77it/s]\n"
     ]
    }
   ],
   "source": [
    "lfm1['IsActive'] = lfm1.progress_apply(lambda row: checkActive(lfm1, row, 'Purch. block for purchasing organization', 'Delete flag for purchasing organization'), axis=1)"
   ]
  },
  {
   "cell_type": "code",
   "execution_count": 87,
   "metadata": {},
   "outputs": [
    {
     "name": "stderr",
     "output_type": "stream",
     "text": [
      "100%|██████████| 16486/16486 [00:00<00:00, 80010.02it/s]\n"
     ]
    }
   ],
   "source": [
    "lfb1['IsActive'] = lfb1.progress_apply(lambda row: checkActive(lfb1, row, 'Posting block for company code', 'Deletion Flag for Company Code'), axis=1)"
   ]
  },
  {
   "cell_type": "code",
   "execution_count": 88,
   "metadata": {},
   "outputs": [],
   "source": [
    "inactive = lfm1[lfm1['IsActive']==False]['Supplier'].to_list()"
   ]
  },
  {
   "cell_type": "code",
   "execution_count": 89,
   "metadata": {},
   "outputs": [
    {
     "data": {
      "text/plain": [
       "9693"
      ]
     },
     "execution_count": 89,
     "metadata": {},
     "output_type": "execute_result"
    }
   ],
   "source": [
    "len(lfb1[lfb1['IsActive']==False]['Supplier'].to_list())"
   ]
  },
  {
   "cell_type": "code",
   "execution_count": 90,
   "metadata": {},
   "outputs": [],
   "source": [
    "inactive = inactive + lfb1[lfb1['IsActive']==False]['Supplier'].to_list()"
   ]
  },
  {
   "cell_type": "code",
   "execution_count": 91,
   "metadata": {},
   "outputs": [],
   "source": [
    "a = '/sheet/123/data.csv'"
   ]
  },
  {
   "cell_type": "code",
   "execution_count": 92,
   "metadata": {},
   "outputs": [
    {
     "data": {
      "text/plain": [
       "['', 'sheet', '123']"
      ]
     },
     "execution_count": 92,
     "metadata": {},
     "output_type": "execute_result"
    }
   ],
   "source": [
    "a.split('/')[:-1]"
   ]
  },
  {
   "cell_type": "code",
   "execution_count": 93,
   "metadata": {},
   "outputs": [],
   "source": [
    "a= \"\""
   ]
  },
  {
   "cell_type": "code",
   "execution_count": 94,
   "metadata": {},
   "outputs": [
    {
     "data": {
      "text/plain": [
       "True"
      ]
     },
     "execution_count": 94,
     "metadata": {},
     "output_type": "execute_result"
    }
   ],
   "source": [
    "a == ''"
   ]
  },
  {
   "cell_type": "code",
   "execution_count": 95,
   "metadata": {},
   "outputs": [],
   "source": [
    "a = \"lfa1,lfb1\""
   ]
  },
  {
   "cell_type": "code",
   "execution_count": 96,
   "metadata": {},
   "outputs": [
    {
     "data": {
      "text/plain": [
       "['lfa1', 'lfb1']"
      ]
     },
     "execution_count": 96,
     "metadata": {},
     "output_type": "execute_result"
    }
   ],
   "source": [
    "a.split(',')"
   ]
  },
  {
   "cell_type": "code",
   "execution_count": 97,
   "metadata": {},
   "outputs": [
    {
     "data": {
      "text/plain": [
       "'lfa1,lfb1'"
      ]
     },
     "execution_count": 97,
     "metadata": {},
     "output_type": "execute_result"
    }
   ],
   "source": [
    "a"
   ]
  },
  {
   "cell_type": "code",
   "execution_count": 98,
   "metadata": {},
   "outputs": [],
   "source": [
    "a = ['a', 'b', 'c']"
   ]
  },
  {
   "cell_type": "code",
   "execution_count": 99,
   "metadata": {},
   "outputs": [
    {
     "name": "stdout",
     "output_type": "stream",
     "text": [
      "0 a\n",
      "1 b\n",
      "2 c\n"
     ]
    }
   ],
   "source": [
    "for i, j in enumerate(a):\n",
    "    print(i,j)\n"
   ]
  },
  {
   "cell_type": "code",
   "execution_count": 100,
   "metadata": {},
   "outputs": [],
   "source": [
    "a = '/abc/123/abc.xlsx'"
   ]
  },
  {
   "cell_type": "code",
   "execution_count": 101,
   "metadata": {},
   "outputs": [
    {
     "data": {
      "text/plain": [
       "'/abc/123'"
      ]
     },
     "execution_count": 101,
     "metadata": {},
     "output_type": "execute_result"
    }
   ],
   "source": [
    "\"/\".join(a.split('/')[:-1])"
   ]
  },
  {
   "cell_type": "code",
   "execution_count": 102,
   "metadata": {},
   "outputs": [],
   "source": [
    "df = pd.read_excel('../Outputs/Vendor/lfa1.xlsx', sheet_name='Results')"
   ]
  },
  {
   "cell_type": "code",
   "execution_count": 103,
   "metadata": {},
   "outputs": [],
   "source": [
    "def preprocessOutput(df: pd.DataFrame, output_path=''):\n",
    "    issueList = list(sorted(set([i.strip() for i in ','.join(df['Issues'].to_list()).split(',')])))\n",
    "    return issueList"
   ]
  },
  {
   "cell_type": "code",
   "execution_count": 104,
   "metadata": {},
   "outputs": [
    {
     "data": {
      "text/plain": [
       "[\"'City' should be in a standard format\",\n",
       " \"'City' should not be null\",\n",
       " \"'Name 1' should be in a standard format\",\n",
       " \"'Name 1' should be unique\",\n",
       " \"'Name 2' should be in a standard format\",\n",
       " \"'Name 2' should be unique\",\n",
       " \"'Name 2' should not be null\",\n",
       " \"'Name 3' should be in a standard format\",\n",
       " \"'Name 3' should not be null\",\n",
       " \"'Name 4' should not be null\",\n",
       " \"'P.O. Box Postal Code' should be valid as per Country\",\n",
       " \"'P.O. Box Postal Code' should not be null\",\n",
       " \"'PO Box' should be valid as per Country\",\n",
       " \"'PO Box' should not be null\",\n",
       " \"'Plant' should not be null\",\n",
       " \"'Postal Code' should be valid as per Country\",\n",
       " \"'Postal Code' should not be null\",\n",
       " \"'Street' should be in standard format\",\n",
       " \"'Street' should not be null\",\n",
       " \"'Tax Jurisdiction' should not be null\",\n",
       " \"'Tax Number 3' should be unique\",\n",
       " \"'Tax Number 3' should not be null\",\n",
       " \"'Telephone 1' should be in a standard format\",\n",
       " \"'Telephone 1' should be unique\",\n",
       " \"'Telephone 1' should not be null\",\n",
       " \"'Telephone 2' should be in a standard format\",\n",
       " \"'Telephone 2' should be unique\",\n",
       " \"'Telephone 2' should not be null\"]"
      ]
     },
     "execution_count": 104,
     "metadata": {},
     "output_type": "execute_result"
    }
   ],
   "source": [
    "preprocessOutput(df)"
   ]
  },
  {
   "cell_type": "code",
   "execution_count": 105,
   "metadata": {},
   "outputs": [],
   "source": [
    "d = []"
   ]
  },
  {
   "cell_type": "code",
   "execution_count": 106,
   "metadata": {},
   "outputs": [],
   "source": [
    "d.append({'sheet name': 'sheet name 1', 'count':1})\n",
    "d.append({'sheet name': 'sheet name 3', 'count':5})"
   ]
  },
  {
   "cell_type": "code",
   "execution_count": 107,
   "metadata": {},
   "outputs": [
    {
     "data": {
      "text/plain": [
       "[{'sheet name': 'sheet name 1', 'count': 1},\n",
       " {'sheet name': 'sheet name 3', 'count': 5}]"
      ]
     },
     "execution_count": 107,
     "metadata": {},
     "output_type": "execute_result"
    }
   ],
   "source": [
    "d"
   ]
  },
  {
   "cell_type": "code",
   "execution_count": 108,
   "metadata": {},
   "outputs": [],
   "source": [
    "da = pd.DataFrame(d)"
   ]
  },
  {
   "cell_type": "code",
   "execution_count": 109,
   "metadata": {},
   "outputs": [
    {
     "data": {
      "text/html": [
       "<div>\n",
       "<style scoped>\n",
       "    .dataframe tbody tr th:only-of-type {\n",
       "        vertical-align: middle;\n",
       "    }\n",
       "\n",
       "    .dataframe tbody tr th {\n",
       "        vertical-align: top;\n",
       "    }\n",
       "\n",
       "    .dataframe thead th {\n",
       "        text-align: right;\n",
       "    }\n",
       "</style>\n",
       "<table border=\"1\" class=\"dataframe\">\n",
       "  <thead>\n",
       "    <tr style=\"text-align: right;\">\n",
       "      <th></th>\n",
       "      <th>sheet name</th>\n",
       "      <th>count</th>\n",
       "    </tr>\n",
       "  </thead>\n",
       "  <tbody>\n",
       "    <tr>\n",
       "      <th>0</th>\n",
       "      <td>sheet name 1</td>\n",
       "      <td>1</td>\n",
       "    </tr>\n",
       "    <tr>\n",
       "      <th>1</th>\n",
       "      <td>sheet name 3</td>\n",
       "      <td>5</td>\n",
       "    </tr>\n",
       "  </tbody>\n",
       "</table>\n",
       "</div>"
      ],
      "text/plain": [
       "     sheet name  count\n",
       "0  sheet name 1      1\n",
       "1  sheet name 3      5"
      ]
     },
     "execution_count": 109,
     "metadata": {},
     "output_type": "execute_result"
    }
   ],
   "source": [
    "da"
   ]
  },
  {
   "cell_type": "code",
   "execution_count": 110,
   "metadata": {},
   "outputs": [],
   "source": [
    "import re"
   ]
  },
  {
   "cell_type": "code",
   "execution_count": null,
   "metadata": {},
   "outputs": [],
   "source": []
  },
  {
   "cell_type": "code",
   "execution_count": 78,
   "metadata": {},
   "outputs": [],
   "source": [
    "df = pd.read_excel('../Outputs/Vendor/lfa1.xlsx', sheet_name='Results')"
   ]
  },
  {
   "cell_type": "code",
   "execution_count": 127,
   "metadata": {},
   "outputs": [],
   "source": [
    "def filter_issues(col, issues):\n",
    "    filtered = issues.split(', ')\n",
    "    res = []\n",
    "    for i in filtered:\n",
    "        if col in i:\n",
    "            res.append(i)\n",
    "\n",
    "    return ', '.join(res)\n",
    "\n",
    "def preprocessOutput(df: pd.DataFrame, output_path):\n",
    "    \n",
    "    summary = [] \n",
    "    issueList = list(sorted(set([i.strip() for i in ','.join(df['Issues'].to_list()).split(',')])))\n",
    "    print(issueList)\n",
    "    i = 1\n",
    "    with pd.ExcelWriter(output_path, engine='openpyxl') as writer:\n",
    "        df.to_excel(writer, sheet_name='Results', index=False)\n",
    "        for issue in issueList:\n",
    "            filter_df = df[df['Issues'].str.contains(re.escape(f\"{issue}\"), na=False)]\n",
    "            filter_df['Issues'] = filter_df['Issues'].progress_apply(lambda x: filter_issues(issue,x))\n",
    "            print(f'Annexure {i}')\n",
    "            summary.append({'S.No.' : f'Annexure {i}', 'Particulars' : issue, 'Total Records': filter_df.shape[0]})\n",
    "            filter_df.to_excel(writer, sheet_name=f'Annexure {i}', index=False)\n",
    "            i+=1\n",
    "        summary = pd.DataFrame(summary)\n",
    "        summary.to_excel(writer, sheet_name='Summary', index=False)\n",
    "    return output_path"
   ]
  },
  {
   "cell_type": "code",
   "execution_count": 128,
   "metadata": {},
   "outputs": [
    {
     "name": "stdout",
     "output_type": "stream",
     "text": [
      "[\"'City' should be in a standard format\", \"'City' should not be null\", \"'Name 1' should be in a standard format\", \"'Name 1' should be unique\", \"'Name 2' should be in a standard format\", \"'Name 2' should be unique\", \"'Name 2' should not be null\", \"'Name 3' should be in a standard format\", \"'Name 3' should not be null\", \"'Name 4' should not be null\", \"'P.O. Box Postal Code' should be valid as per Country\", \"'P.O. Box Postal Code' should not be null\", \"'PO Box' should be valid as per Country\", \"'PO Box' should not be null\", \"'Plant' should not be null\", \"'Postal Code' should be valid as per Country\", \"'Postal Code' should not be null\", \"'Street' should be in standard format\", \"'Street' should not be null\", \"'Tax Jurisdiction' should not be null\", \"'Tax Number 3' should be unique\", \"'Tax Number 3' should not be null\", \"'Telephone 1' should be in a standard format\", \"'Telephone 1' should be unique\", \"'Telephone 1' should not be null\", \"'Telephone 2' should be in a standard format\", \"'Telephone 2' should be unique\", \"'Telephone 2' should not be null\"]\n"
     ]
    },
    {
     "name": "stderr",
     "output_type": "stream",
     "text": [
      "100%|██████████| 1653/1653 [00:00<00:00, 425531.49it/s]\n",
      "C:\\Users\\abhena\\AppData\\Local\\Temp\\ipykernel_21212\\3217130245.py:20: SettingWithCopyWarning: \n",
      "A value is trying to be set on a copy of a slice from a DataFrame.\n",
      "Try using .loc[row_indexer,col_indexer] = value instead\n",
      "\n",
      "See the caveats in the documentation: https://pandas.pydata.org/pandas-docs/stable/user_guide/indexing.html#returning-a-view-versus-a-copy\n",
      "  filter_df['Issues'] = filter_df['Issues'].progress_apply(lambda x: filter_issues(issue,x))\n"
     ]
    },
    {
     "name": "stdout",
     "output_type": "stream",
     "text": [
      "Annexure 1\n"
     ]
    },
    {
     "name": "stderr",
     "output_type": "stream",
     "text": [
      "100%|██████████| 94/94 [00:00<00:00, 173684.84it/s]\n"
     ]
    },
    {
     "name": "stdout",
     "output_type": "stream",
     "text": [
      "Annexure 2\n"
     ]
    },
    {
     "name": "stderr",
     "output_type": "stream",
     "text": [
      "100%|██████████| 2584/2584 [00:00<00:00, 542120.93it/s]\n"
     ]
    },
    {
     "name": "stdout",
     "output_type": "stream",
     "text": [
      "Annexure 3\n"
     ]
    },
    {
     "name": "stderr",
     "output_type": "stream",
     "text": [
      "100%|██████████| 173/173 [00:00<00:00, 282890.68it/s]\n"
     ]
    },
    {
     "name": "stdout",
     "output_type": "stream",
     "text": [
      "Annexure 4\n"
     ]
    },
    {
     "name": "stderr",
     "output_type": "stream",
     "text": [
      "100%|██████████| 268/268 [00:00<00:00, 298876.22it/s]\n"
     ]
    },
    {
     "name": "stdout",
     "output_type": "stream",
     "text": [
      "Annexure 5\n"
     ]
    },
    {
     "name": "stderr",
     "output_type": "stream",
     "text": [
      "100%|██████████| 630/630 [00:00<00:00, 407402.33it/s]\n"
     ]
    },
    {
     "name": "stdout",
     "output_type": "stream",
     "text": [
      "Annexure 6\n"
     ]
    },
    {
     "name": "stderr",
     "output_type": "stream",
     "text": [
      "100%|██████████| 2081/2081 [00:00<00:00, 355881.38it/s]\n"
     ]
    },
    {
     "name": "stdout",
     "output_type": "stream",
     "text": [
      "Annexure 7\n"
     ]
    },
    {
     "name": "stderr",
     "output_type": "stream",
     "text": [
      "100%|██████████| 1/1 [00:00<00:00, 6009.03it/s]\n"
     ]
    },
    {
     "name": "stdout",
     "output_type": "stream",
     "text": [
      "Annexure 8\n"
     ]
    },
    {
     "name": "stderr",
     "output_type": "stream",
     "text": [
      "100%|██████████| 3021/3021 [00:00<00:00, 341324.58it/s]\n"
     ]
    },
    {
     "name": "stdout",
     "output_type": "stream",
     "text": [
      "Annexure 9\n"
     ]
    },
    {
     "name": "stderr",
     "output_type": "stream",
     "text": [
      "100%|██████████| 3022/3022 [00:00<00:00, 522192.84it/s]\n"
     ]
    },
    {
     "name": "stdout",
     "output_type": "stream",
     "text": [
      "Annexure 10\n"
     ]
    },
    {
     "name": "stderr",
     "output_type": "stream",
     "text": [
      "100%|██████████| 2/2 [00:00<00:00, 13294.15it/s]\n"
     ]
    },
    {
     "name": "stdout",
     "output_type": "stream",
     "text": [
      "Annexure 11\n"
     ]
    },
    {
     "name": "stderr",
     "output_type": "stream",
     "text": [
      "100%|██████████| 1497/1497 [00:00<00:00, 346153.21it/s]\n"
     ]
    },
    {
     "name": "stdout",
     "output_type": "stream",
     "text": [
      "Annexure 12\n"
     ]
    },
    {
     "name": "stderr",
     "output_type": "stream",
     "text": [
      "100%|██████████| 814/814 [00:00<00:00, 331279.20it/s]\n"
     ]
    },
    {
     "name": "stdout",
     "output_type": "stream",
     "text": [
      "Annexure 13\n"
     ]
    },
    {
     "name": "stderr",
     "output_type": "stream",
     "text": [
      "100%|██████████| 1659/1659 [00:00<00:00, 446907.54it/s]\n"
     ]
    },
    {
     "name": "stdout",
     "output_type": "stream",
     "text": [
      "Annexure 14\n"
     ]
    },
    {
     "name": "stderr",
     "output_type": "stream",
     "text": [
      "100%|██████████| 3022/3022 [00:00<00:00, 497222.14it/s]\n"
     ]
    },
    {
     "name": "stdout",
     "output_type": "stream",
     "text": [
      "Annexure 15\n"
     ]
    },
    {
     "name": "stderr",
     "output_type": "stream",
     "text": [
      "100%|██████████| 22/22 [00:00<00:00, 100517.09it/s]\n"
     ]
    },
    {
     "name": "stdout",
     "output_type": "stream",
     "text": [
      "Annexure 16\n"
     ]
    },
    {
     "name": "stderr",
     "output_type": "stream",
     "text": [
      "100%|██████████| 102/102 [00:00<00:00, 210333.83it/s]\n"
     ]
    },
    {
     "name": "stdout",
     "output_type": "stream",
     "text": [
      "Annexure 17\n"
     ]
    },
    {
     "name": "stderr",
     "output_type": "stream",
     "text": [
      "100%|██████████| 1714/1714 [00:00<00:00, 298127.11it/s]\n"
     ]
    },
    {
     "name": "stdout",
     "output_type": "stream",
     "text": [
      "Annexure 18\n"
     ]
    },
    {
     "name": "stderr",
     "output_type": "stream",
     "text": [
      "100%|██████████| 48/48 [00:00<00:00, 195083.91it/s]\n"
     ]
    },
    {
     "name": "stdout",
     "output_type": "stream",
     "text": [
      "Annexure 19\n"
     ]
    },
    {
     "name": "stderr",
     "output_type": "stream",
     "text": [
      "100%|██████████| 3022/3022 [00:00<00:00, 99178.31it/s]\n"
     ]
    },
    {
     "name": "stdout",
     "output_type": "stream",
     "text": [
      "Annexure 20\n"
     ]
    },
    {
     "name": "stderr",
     "output_type": "stream",
     "text": [
      "100%|██████████| 184/184 [00:00<00:00, 211728.93it/s]\n"
     ]
    },
    {
     "name": "stdout",
     "output_type": "stream",
     "text": [
      "Annexure 21\n"
     ]
    },
    {
     "name": "stderr",
     "output_type": "stream",
     "text": [
      "100%|██████████| 9/9 [00:00<00:00, 22767.63it/s]\n"
     ]
    },
    {
     "name": "stdout",
     "output_type": "stream",
     "text": [
      "Annexure 22\n"
     ]
    },
    {
     "name": "stderr",
     "output_type": "stream",
     "text": [
      "100%|██████████| 2540/2540 [00:00<00:00, 323953.42it/s]\n"
     ]
    },
    {
     "name": "stdout",
     "output_type": "stream",
     "text": [
      "Annexure 23\n"
     ]
    },
    {
     "name": "stderr",
     "output_type": "stream",
     "text": [
      "100%|██████████| 75/75 [00:00<00:00, 199475.46it/s]\n"
     ]
    },
    {
     "name": "stdout",
     "output_type": "stream",
     "text": [
      "Annexure 24\n"
     ]
    },
    {
     "name": "stderr",
     "output_type": "stream",
     "text": [
      "100%|██████████| 403/403 [00:00<00:00, 259926.88it/s]\n"
     ]
    },
    {
     "name": "stdout",
     "output_type": "stream",
     "text": [
      "Annexure 25\n"
     ]
    },
    {
     "name": "stderr",
     "output_type": "stream",
     "text": [
      "100%|██████████| 1719/1719 [00:00<00:00, 550929.06it/s]\n"
     ]
    },
    {
     "name": "stdout",
     "output_type": "stream",
     "text": [
      "Annexure 26\n"
     ]
    },
    {
     "name": "stderr",
     "output_type": "stream",
     "text": [
      "100%|██████████| 73/73 [00:00<00:00, 223492.11it/s]\n"
     ]
    },
    {
     "name": "stdout",
     "output_type": "stream",
     "text": [
      "Annexure 27\n"
     ]
    },
    {
     "name": "stderr",
     "output_type": "stream",
     "text": [
      "100%|██████████| 1229/1229 [00:00<00:00, 291412.72it/s]\n"
     ]
    },
    {
     "name": "stdout",
     "output_type": "stream",
     "text": [
      "Annexure 28\n"
     ]
    },
    {
     "data": {
      "text/plain": [
       "'../Outputs/result.xlsx'"
      ]
     },
     "execution_count": 128,
     "metadata": {},
     "output_type": "execute_result"
    }
   ],
   "source": [
    "preprocessOutput(df,'../Outputs/result.xlsx')"
   ]
  },
  {
   "cell_type": "code",
   "execution_count": null,
   "metadata": {},
   "outputs": [],
   "source": []
  }
 ],
 "metadata": {
  "kernelspec": {
   "display_name": "cleansing",
   "language": "python",
   "name": "python3"
  },
  "language_info": {
   "codemirror_mode": {
    "name": "ipython",
    "version": 3
   },
   "file_extension": ".py",
   "mimetype": "text/x-python",
   "name": "python",
   "nbconvert_exporter": "python",
   "pygments_lexer": "ipython3",
   "version": "3.13.2"
  }
 },
 "nbformat": 4,
 "nbformat_minor": 2
}
