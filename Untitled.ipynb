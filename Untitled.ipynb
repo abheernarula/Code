{
 "cells": [
  {
   "cell_type": "code",
   "execution_count": null,
   "id": "29db07f7-0c3c-45a6-86d0-4a898235c85f",
   "metadata": {},
   "outputs": [],
   "source": []
  }
 ],
 "metadata": {
  "kernelspec": {
   "display_name": "Python 3",
   "language": "python",
   "name": "python3"
  },
  "language_info": {
   "name": "python",
   "version": "3.13.2"
  }
 },
 "nbformat": 4,
 "nbformat_minor": 5
}
