{
 "cells": [
  {
   "cell_type": "code",
   "execution_count": 1,
   "id": "29db07f7-0c3c-45a6-86d0-4a898235c85f",
   "metadata": {},
   "outputs": [],
   "source": [
    "import pandas as pd\n",
    "import os"
   ]
  },
  {
   "cell_type": "code",
   "execution_count": 2,
   "id": "b59b3265",
   "metadata": {},
   "outputs": [],
   "source": [
    "vendorMaster = \"../Vendor/july21/activeVendorMaster.xlsx\""
   ]
  },
  {
   "cell_type": "code",
   "execution_count": 22,
   "id": "4c4c8ee2",
   "metadata": {},
   "outputs": [],
   "source": [
    "lfa1 = pd.read_excel(vendorMaster, sheet_name='LFA1')\n",
    "lfb1 = pd.read_excel(vendorMaster, sheet_name='LFB1')\n",
    "lfm1 = pd.read_excel(vendorMaster, sheet_name='LFM1')\n",
    "lfbk = pd.read_excel(vendorMaster, sheet_name='LFBK')\n",
    "adrc = pd.read_excel(vendorMaster, sheet_name='ADRC')\n",
    "j_1imovend = pd.read_excel(vendorMaster, sheet_name='J_1IMOVEND')\n",
    "adr6 = pd.read_excel(vendorMaster, sheet_name='V_ADR6')"
   ]
  },
  {
   "cell_type": "code",
   "execution_count": null,
   "id": "3a23c434",
   "metadata": {},
   "outputs": [
    {
     "data": {
      "text/plain": [
       "3022"
      ]
     },
     "execution_count": 23,
     "metadata": {},
     "output_type": "execute_result"
    }
   ],
   "source": [
    "p1 = pd.read_excel('../Vendor/p2VendorMaster.xlsx', sheet_name='LFA1')['Supplier'].to_list()\n",
    "len(p1)"
   ]
  },
  {
   "cell_type": "code",
   "execution_count": 26,
   "id": "944f3da5",
   "metadata": {},
   "outputs": [],
   "source": [
    "def classifyInactive(table, row, inactive: list):\n",
    "    return row['Supplier'] in inactive"
   ]
  },
  {
   "cell_type": "code",
   "execution_count": 27,
   "id": "a30b1589",
   "metadata": {},
   "outputs": [
    {
     "data": {
      "text/plain": [
       "Index(['Address Number', 'E-Mail Address', 'Supplier', 'Address', 'Country',\n",
       "       'Inactive'],\n",
       "      dtype='object')"
      ]
     },
     "execution_count": 27,
     "metadata": {},
     "output_type": "execute_result"
    }
   ],
   "source": [
    "adr6.columns"
   ]
  },
  {
   "cell_type": "code",
   "execution_count": 28,
   "id": "f0fb228b",
   "metadata": {},
   "outputs": [
    {
     "data": {
      "text/plain": [
       "Index(['Address Number', 'Postal Code', 'Street', 'Street 2', 'Street 3',\n",
       "       'Street 4', 'Street 5', 'Postal Code.1', 'PO Box Postal Code', 'PO Box',\n",
       "       'Supplier', 'Address', 'Country', 'Inactive'],\n",
       "      dtype='object')"
      ]
     },
     "execution_count": 28,
     "metadata": {},
     "output_type": "execute_result"
    }
   ],
   "source": [
    "adrc.columns"
   ]
  },
  {
   "cell_type": "code",
   "execution_count": 29,
   "id": "abf1a54e",
   "metadata": {},
   "outputs": [],
   "source": [
    "lfa1['p1'] = lfa1.apply(lambda row: classifyInactive(lfa1, row, p1), axis=1)\n",
    "lfb1['p1'] = lfb1.apply(lambda row: classifyInactive(lfb1, row, p1), axis=1)\n",
    "lfm1['p1'] = lfm1.apply(lambda row: classifyInactive(lfm1, row, p1), axis=1)\n",
    "lfbk['p1'] = lfbk.apply(lambda row: classifyInactive(lfbk, row, p1), axis=1)\n",
    "adrc['p1'] = adrc.apply(lambda row: classifyInactive(adrc, row, p1), axis=1)\n",
    "adr6['p1'] = adr6.apply(lambda row: classifyInactive(adr6, row, p1), axis=1)\n",
    "j_1imovend['p1'] = j_1imovend.apply(lambda row: classifyInactive(j_1imovend, row, p1), axis=1)"
   ]
  },
  {
   "cell_type": "code",
   "execution_count": 31,
   "id": "43636eb2",
   "metadata": {},
   "outputs": [],
   "source": [
    "lfa1_active = lfa1[lfa1['p1']==False]\n",
    "lfb1_active = lfb1[lfb1['p1']==False]\n",
    "lfm1_active = lfm1[lfm1['p1']==False]\n",
    "lfbk_active = lfbk[lfbk['p1']==False]\n",
    "adrc_active = adrc[adrc['p1']==False]\n",
    "adr6_active = adr6[adr6['p1']==False]\n",
    "j_1imovend_active = j_1imovend[j_1imovend['p1']==False]"
   ]
  },
  {
   "cell_type": "code",
   "execution_count": 34,
   "id": "c97b3ff2",
   "metadata": {},
   "outputs": [],
   "source": [
    "# output_dir = \"/\".join(vendorMaster.split('/')[:-1])\n",
    "output_dir = \"../Vendor/july21\"\n",
    "output_path = os.path.join(output_dir, 'p2VendorMaster.xlsx')\n",
    "tables = [lfa1_active, lfb1_active, lfm1_active, lfbk_active, adrc_active, adr6_active, j_1imovend_active]\n",
    "sheets = ['LFA1', 'LFB1', 'LFM1', 'LFBK', 'ADRC', 'V_ADR6', 'J_1IMOVEND']"
   ]
  },
  {
   "cell_type": "code",
   "execution_count": 35,
   "id": "d03f1a20",
   "metadata": {},
   "outputs": [],
   "source": [
    "with pd.ExcelWriter(output_path, engine='openpyxl') as writer:\n",
    "        for idx, table in enumerate(tables):\n",
    "            table.to_excel(writer, sheet_name=sheets[idx], index=False)"
   ]
  },
  {
   "cell_type": "code",
   "execution_count": null,
   "id": "78eaa7e7",
   "metadata": {},
   "outputs": [],
   "source": []
  }
 ],
 "metadata": {
  "kernelspec": {
   "display_name": "Python 3",
   "language": "python",
   "name": "python3"
  },
  "language_info": {
   "codemirror_mode": {
    "name": "ipython",
    "version": 3
   },
   "file_extension": ".py",
   "mimetype": "text/x-python",
   "name": "python",
   "nbconvert_exporter": "python",
   "pygments_lexer": "ipython3",
   "version": "3.10.0"
  }
 },
 "nbformat": 4,
 "nbformat_minor": 5
}
