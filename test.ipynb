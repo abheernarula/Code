{
 "cells": [
  {
   "cell_type": "code",
   "execution_count": 1,
   "metadata": {},
   "outputs": [],
   "source": [
    "from tqdm import tqdm\n",
    "import pandas as pd\n",
    "tqdm.pandas()"
   ]
  },
  {
   "cell_type": "code",
   "execution_count": 2,
   "metadata": {},
   "outputs": [],
   "source": [
    "# lfa1 = pd.read_excel('../Vendor/VendorMaster.xlsx', sheet_name='LFA1')\n",
    "# adrc = pd.read_excel('../Vendor/VendorMaster.xlsx', sheet_name='ADRC')\n",
    "# pan = pd.read_excel('../Vendor/VendorMaster.xlsx', sheet_name='J1IMOVEND')\n",
    "kna1 = pd.read_excel('../Customer/activeCustomerMaster.xlsx', sheet_name='KNA1')\n",
    "acc = pd.read_excel('../Customer/activeCustomerMaster.xlsx', sheet_name='ACCOUNT')"
   ]
  },
  {
   "cell_type": "code",
   "execution_count": 6,
   "metadata": {},
   "outputs": [
    {
     "data": {
      "text/plain": [
       "0        Fondation Synergie Lyon Cancer\n",
       "1                     Aum Lifetech, Inc\n",
       "2               Biocon Limited Sez Unit\n",
       "3             Althera Life Sciences Llc\n",
       "4                          Genkyotex Sa\n",
       "                     ...               \n",
       "1692             Claris Injectables Ltd\n",
       "1693        Debiopharm International Sa\n",
       "1694                   Ade Therapeutics\n",
       "1695                Astellas Pharma Llc\n",
       "1696    Novartis Healthcare Pvt Limited\n",
       "Name: Name 1, Length: 1697, dtype: object"
      ]
     },
     "execution_count": 6,
     "metadata": {},
     "output_type": "execute_result"
    }
   ],
   "source": [
    "kna1['Name 1'].str.title()"
   ]
  },
  {
   "cell_type": "code",
   "execution_count": null,
   "metadata": {},
   "outputs": [
    {
     "data": {
      "text/plain": [
       "Index(['Customer', 'Open Pipeline', 'All Time Customer', 'Open Project?',\n",
       "       'Open Sales Order?', 'Open Invoices', 'Last Invoice Posting Date',\n",
       "       'Country', 'Name 1', 'Name 2', 'City', 'Postal Code', 'Region',\n",
       "       'Search term', 'Street', 'Telephone 1', 'Fax Number',\n",
       "       'One-time account', 'Address', 'Name 1.1', 'Name 2.1', 'City.1',\n",
       "       'Title', 'Central order block', 'Int. location no. 1',\n",
       "       'Int. location no. 2', 'Authorization Group', 'Industry', 'Check digit',\n",
       "       'Data line', 'Created on', 'Created by', 'Central billing block',\n",
       "       'Alternative Payer', 'Corporate Group', 'Account group',\n",
       "       'Customer classific.', 'Supplier', 'Central delivery block',\n",
       "       'Central Deletion Flag', 'Name 3', 'Name 4', 'District', 'PO Box',\n",
       "       'P.O. Box Postal Code', 'County Code', 'City Code',\n",
       "       'Central posting block', 'Language Key', 'Tax Number 1', 'Tax Number 2',\n",
       "       'Telebox Number', 'Telephone 2', 'Trading partner',\n",
       "       'VAT Registration No.', 'Prospect', 'Industry Code 1',\n",
       "       'Industry code 2', 'Attribute 1', 'Attribute 2', 'Attribute 6',\n",
       "       'Tax Jurisdiction', 'Reference acct group',\n",
       "       'Status of Data Transfer to Next Release', 'Non-milit. use',\n",
       "       'Condition group 1', 'Tax Number 3', 'Tax Number 6',\n",
       "       'Central sales block', 'URL', 'Central del.block', 'Name 1.2',\n",
       "       'Name 2.2', 'ECGC Zone', 'IEC Number', 'Drug MFG/LIC Number',\n",
       "       'Drug License validity', 'Customer Agr. Status', 'Date Format',\n",
       "       'SalesforceID', 'Healthcare industry number',\n",
       "       'Public Health Service (PHS) administers', 'HIN No Start Date',\n",
       "       'HIN No End Date', 'PHS No Start Date', 'PHS No End Date', 'IsActive'],\n",
       "      dtype='object')"
      ]
     },
     "execution_count": 34,
     "metadata": {},
     "output_type": "execute_result"
    }
   ],
   "source": [
    "kna1.columns"
   ]
  },
  {
   "cell_type": "code",
   "execution_count": 41,
   "metadata": {},
   "outputs": [
    {
     "data": {
      "text/plain": [
       "Open Pipeline\n",
       "False    8495\n",
       "Name: count, dtype: int64"
      ]
     },
     "execution_count": 41,
     "metadata": {},
     "output_type": "execute_result"
    }
   ],
   "source": [
    "acc[acc['IsActive']==False]['Open Pipeline'].value_counts()"
   ]
  },
  {
   "cell_type": "code",
   "execution_count": null,
   "metadata": {},
   "outputs": [],
   "source": []
  },
  {
   "cell_type": "code",
   "execution_count": null,
   "metadata": {},
   "outputs": [],
   "source": []
  },
  {
   "cell_type": "code",
   "execution_count": null,
   "metadata": {},
   "outputs": [],
   "source": []
  },
  {
   "cell_type": "code",
   "execution_count": null,
   "metadata": {},
   "outputs": [],
   "source": [
    "adrc.apply(lambda row: print('To' in row.index.to_list()), axis=1)"
   ]
  },
  {
   "cell_type": "code",
   "execution_count": 4,
   "metadata": {},
   "outputs": [],
   "source": [
    "adrc_required = adrc[['Address Number', 'Postal Code', 'Street', 'Street 2', 'Street 3', 'Street 4', 'Street 5', \n",
    "                          'Postal Code', 'PO Box Postal Code', 'PO Box']]\n",
    "right = lfa1[['Supplier', 'Address']]\n",
    "adrc = pd.merge(adrc_required, right, how='left', left_on='Address Number', right_on='Address')"
   ]
  },
  {
   "cell_type": "code",
   "execution_count": 12,
   "metadata": {},
   "outputs": [
    {
     "data": {
      "text/plain": [
       "'Bangalore'"
      ]
     },
     "execution_count": 12,
     "metadata": {},
     "output_type": "execute_result"
    }
   ],
   "source": [
    "lfa1[lfa1['Supplier']==1000001]['City'].to_list()[0].title()"
   ]
  },
  {
   "cell_type": "code",
   "execution_count": null,
   "metadata": {},
   "outputs": [],
   "source": []
  },
  {
   "cell_type": "code",
   "execution_count": null,
   "metadata": {},
   "outputs": [],
   "source": []
  },
  {
   "cell_type": "code",
   "execution_count": null,
   "metadata": {},
   "outputs": [],
   "source": []
  },
  {
   "cell_type": "code",
   "execution_count": 8,
   "metadata": {},
   "outputs": [
    {
     "data": {
      "text/html": [
       "<div>\n",
       "<style scoped>\n",
       "    .dataframe tbody tr th:only-of-type {\n",
       "        vertical-align: middle;\n",
       "    }\n",
       "\n",
       "    .dataframe tbody tr th {\n",
       "        vertical-align: top;\n",
       "    }\n",
       "\n",
       "    .dataframe thead th {\n",
       "        text-align: right;\n",
       "    }\n",
       "</style>\n",
       "<table border=\"1\" class=\"dataframe\">\n",
       "  <thead>\n",
       "    <tr style=\"text-align: right;\">\n",
       "      <th></th>\n",
       "      <th>Address Number</th>\n",
       "      <th>Postal Code</th>\n",
       "      <th>Street</th>\n",
       "      <th>Street 2</th>\n",
       "      <th>Street 3</th>\n",
       "      <th>Street 4</th>\n",
       "      <th>Street 5</th>\n",
       "      <th>Postal Code</th>\n",
       "      <th>PO Box Postal Code</th>\n",
       "      <th>PO Box</th>\n",
       "      <th>Supplier</th>\n",
       "      <th>Address</th>\n",
       "    </tr>\n",
       "  </thead>\n",
       "  <tbody>\n",
       "    <tr>\n",
       "      <th>0</th>\n",
       "      <td>73155</td>\n",
       "      <td>560048</td>\n",
       "      <td>SURVEY NO.193,</td>\n",
       "      <td>HOODDY VILLAGE</td>\n",
       "      <td>WHITE FIELD ROAD</td>\n",
       "      <td>GANGANAGAR EXTENSION</td>\n",
       "      <td>NaN</td>\n",
       "      <td>560048</td>\n",
       "      <td>560048</td>\n",
       "      <td>560048</td>\n",
       "      <td>1000696</td>\n",
       "      <td>73155</td>\n",
       "    </tr>\n",
       "    <tr>\n",
       "      <th>1</th>\n",
       "      <td>73158</td>\n",
       "      <td>400058</td>\n",
       "      <td>501-502 WATERFORD BUILDING</td>\n",
       "      <td>501, WATERFORD BLDG</td>\n",
       "      <td>C WING,C D BARFIWALA MARG</td>\n",
       "      <td>NaN</td>\n",
       "      <td>NaN</td>\n",
       "      <td>400058</td>\n",
       "      <td>NaN</td>\n",
       "      <td>NaN</td>\n",
       "      <td>1000697</td>\n",
       "      <td>73158</td>\n",
       "    </tr>\n",
       "    <tr>\n",
       "      <th>2</th>\n",
       "      <td>73161</td>\n",
       "      <td>500034</td>\n",
       "      <td>Flat No. 203, L.N's. Harmony Park</td>\n",
       "      <td>Door No. 8-2-334/1/1</td>\n",
       "      <td>Road No.5, Banjara Hills</td>\n",
       "      <td>NaN</td>\n",
       "      <td>NaN</td>\n",
       "      <td>500034</td>\n",
       "      <td>500034</td>\n",
       "      <td>500034</td>\n",
       "      <td>1000698</td>\n",
       "      <td>73161</td>\n",
       "    </tr>\n",
       "    <tr>\n",
       "      <th>3</th>\n",
       "      <td>73364</td>\n",
       "      <td>411012</td>\n",
       "      <td>MUMBAI-PUNE ROAD,</td>\n",
       "      <td>DAPODI</td>\n",
       "      <td>PUNE</td>\n",
       "      <td>NaN</td>\n",
       "      <td>NaN</td>\n",
       "      <td>411012</td>\n",
       "      <td>411012</td>\n",
       "      <td>NaN</td>\n",
       "      <td>1000000</td>\n",
       "      <td>73364</td>\n",
       "    </tr>\n",
       "    <tr>\n",
       "      <th>4</th>\n",
       "      <td>73367</td>\n",
       "      <td>560055</td>\n",
       "      <td>No. 68,</td>\n",
       "      <td>CHITRAPUR BHAVAN,</td>\n",
       "      <td>8TH MAIN, 15TH CROSS,MALLESWARAM</td>\n",
       "      <td>NaN</td>\n",
       "      <td>NaN</td>\n",
       "      <td>560055</td>\n",
       "      <td>560055</td>\n",
       "      <td>BANGALORE</td>\n",
       "      <td>1000001</td>\n",
       "      <td>73367</td>\n",
       "    </tr>\n",
       "    <tr>\n",
       "      <th>...</th>\n",
       "      <td>...</td>\n",
       "      <td>...</td>\n",
       "      <td>...</td>\n",
       "      <td>...</td>\n",
       "      <td>...</td>\n",
       "      <td>...</td>\n",
       "      <td>...</td>\n",
       "      <td>...</td>\n",
       "      <td>...</td>\n",
       "      <td>...</td>\n",
       "      <td>...</td>\n",
       "      <td>...</td>\n",
       "    </tr>\n",
       "    <tr>\n",
       "      <th>14489</th>\n",
       "      <td>9661271</td>\n",
       "      <td>560038</td>\n",
       "      <td>221, 13th Cross Rd</td>\n",
       "      <td>Indira Nagar 1st Stage, Hoysala Nagar</td>\n",
       "      <td>Indiranagar, Bengaluru</td>\n",
       "      <td>NaN</td>\n",
       "      <td>NaN</td>\n",
       "      <td>560038</td>\n",
       "      <td>NaN</td>\n",
       "      <td>NaN</td>\n",
       "      <td>1025690</td>\n",
       "      <td>9661271</td>\n",
       "    </tr>\n",
       "    <tr>\n",
       "      <th>14490</th>\n",
       "      <td>9672927</td>\n",
       "      <td>562106</td>\n",
       "      <td>Ward no 05</td>\n",
       "      <td>2nd cross , wavers colony</td>\n",
       "      <td>Anekal</td>\n",
       "      <td>Bengaluru</td>\n",
       "      <td>NaN</td>\n",
       "      <td>562106</td>\n",
       "      <td>NaN</td>\n",
       "      <td>NaN</td>\n",
       "      <td>1025702</td>\n",
       "      <td>9672927</td>\n",
       "    </tr>\n",
       "    <tr>\n",
       "      <th>14491</th>\n",
       "      <td>9672928</td>\n",
       "      <td>560034</td>\n",
       "      <td>No 37, 6th Cross, 7th main</td>\n",
       "      <td>S T Bed</td>\n",
       "      <td>Friends colony, Koramangala</td>\n",
       "      <td>Bengaluru Urban</td>\n",
       "      <td>NaN</td>\n",
       "      <td>560034</td>\n",
       "      <td>NaN</td>\n",
       "      <td>NaN</td>\n",
       "      <td>1025705</td>\n",
       "      <td>9672928</td>\n",
       "    </tr>\n",
       "    <tr>\n",
       "      <th>14492</th>\n",
       "      <td>9675767</td>\n",
       "      <td>562117</td>\n",
       "      <td>Srinivasa nilaya</td>\n",
       "      <td>P P Hospital road 4th cross</td>\n",
       "      <td>Hanumantha nagar kanakapura</td>\n",
       "      <td>Kanakapura rural</td>\n",
       "      <td>NaN</td>\n",
       "      <td>562117</td>\n",
       "      <td>NaN</td>\n",
       "      <td>NaN</td>\n",
       "      <td>1025703</td>\n",
       "      <td>9675767</td>\n",
       "    </tr>\n",
       "    <tr>\n",
       "      <th>14493</th>\n",
       "      <td>9675768</td>\n",
       "      <td>583121</td>\n",
       "      <td>12</td>\n",
       "      <td>1th ward</td>\n",
       "      <td>Panchaiti katta hattira</td>\n",
       "      <td>Saggada ony</td>\n",
       "      <td>Kenchagudda, Sirguppa</td>\n",
       "      <td>583121</td>\n",
       "      <td>NaN</td>\n",
       "      <td>NaN</td>\n",
       "      <td>1025704</td>\n",
       "      <td>9675768</td>\n",
       "    </tr>\n",
       "  </tbody>\n",
       "</table>\n",
       "<p>14494 rows × 12 columns</p>\n",
       "</div>"
      ],
      "text/plain": [
       "       Address Number Postal Code                             Street  \\\n",
       "0               73155      560048                     SURVEY NO.193,   \n",
       "1               73158      400058         501-502 WATERFORD BUILDING   \n",
       "2               73161      500034  Flat No. 203, L.N's. Harmony Park   \n",
       "3               73364      411012                  MUMBAI-PUNE ROAD,   \n",
       "4               73367      560055                            No. 68,   \n",
       "...               ...         ...                                ...   \n",
       "14489         9661271      560038                 221, 13th Cross Rd   \n",
       "14490         9672927      562106                         Ward no 05   \n",
       "14491         9672928      560034         No 37, 6th Cross, 7th main   \n",
       "14492         9675767      562117                   Srinivasa nilaya   \n",
       "14493         9675768      583121                                 12   \n",
       "\n",
       "                                    Street 2  \\\n",
       "0                             HOODDY VILLAGE   \n",
       "1                        501, WATERFORD BLDG   \n",
       "2                       Door No. 8-2-334/1/1   \n",
       "3                                     DAPODI   \n",
       "4                          CHITRAPUR BHAVAN,   \n",
       "...                                      ...   \n",
       "14489  Indira Nagar 1st Stage, Hoysala Nagar   \n",
       "14490              2nd cross , wavers colony   \n",
       "14491                                S T Bed   \n",
       "14492            P P Hospital road 4th cross   \n",
       "14493                               1th ward   \n",
       "\n",
       "                               Street 3              Street 4  \\\n",
       "0                      WHITE FIELD ROAD  GANGANAGAR EXTENSION   \n",
       "1             C WING,C D BARFIWALA MARG                   NaN   \n",
       "2              Road No.5, Banjara Hills                   NaN   \n",
       "3                                  PUNE                   NaN   \n",
       "4      8TH MAIN, 15TH CROSS,MALLESWARAM                   NaN   \n",
       "...                                 ...                   ...   \n",
       "14489            Indiranagar, Bengaluru                   NaN   \n",
       "14490                            Anekal             Bengaluru   \n",
       "14491       Friends colony, Koramangala       Bengaluru Urban   \n",
       "14492       Hanumantha nagar kanakapura      Kanakapura rural   \n",
       "14493           Panchaiti katta hattira           Saggada ony   \n",
       "\n",
       "                    Street 5 Postal Code PO Box Postal Code     PO Box  \\\n",
       "0                        NaN      560048             560048     560048   \n",
       "1                        NaN      400058                NaN        NaN   \n",
       "2                        NaN      500034             500034     500034   \n",
       "3                        NaN      411012             411012        NaN   \n",
       "4                        NaN      560055             560055  BANGALORE   \n",
       "...                      ...         ...                ...        ...   \n",
       "14489                    NaN      560038                NaN        NaN   \n",
       "14490                    NaN      562106                NaN        NaN   \n",
       "14491                    NaN      560034                NaN        NaN   \n",
       "14492                    NaN      562117                NaN        NaN   \n",
       "14493  Kenchagudda, Sirguppa      583121                NaN        NaN   \n",
       "\n",
       "       Supplier  Address  \n",
       "0       1000696    73155  \n",
       "1       1000697    73158  \n",
       "2       1000698    73161  \n",
       "3       1000000    73364  \n",
       "4       1000001    73367  \n",
       "...         ...      ...  \n",
       "14489   1025690  9661271  \n",
       "14490   1025702  9672927  \n",
       "14491   1025705  9672928  \n",
       "14492   1025703  9675767  \n",
       "14493   1025704  9675768  \n",
       "\n",
       "[14494 rows x 12 columns]"
      ]
     },
     "execution_count": 8,
     "metadata": {},
     "output_type": "execute_result"
    }
   ],
   "source": [
    "adrc"
   ]
  },
  {
   "cell_type": "code",
   "execution_count": null,
   "metadata": {},
   "outputs": [],
   "source": []
  }
 ],
 "metadata": {
  "kernelspec": {
   "display_name": "cleansing",
   "language": "python",
   "name": "python3"
  },
  "language_info": {
   "codemirror_mode": {
    "name": "ipython",
    "version": 3
   },
   "file_extension": ".py",
   "mimetype": "text/x-python",
   "name": "python",
   "nbconvert_exporter": "python",
   "pygments_lexer": "ipython3",
   "version": "3.13.2"
  }
 },
 "nbformat": 4,
 "nbformat_minor": 2
}
