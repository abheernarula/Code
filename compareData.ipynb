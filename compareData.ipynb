{
 "cells": [
  {
   "cell_type": "code",
   "execution_count": 84,
   "id": "5d9c6921",
   "metadata": {},
   "outputs": [],
   "source": [
    "import pandas as pd"
   ]
  },
  {
   "cell_type": "code",
   "execution_count": 97,
   "id": "ae3c29a7",
   "metadata": {},
   "outputs": [],
   "source": [
    "lfa1_before = pd.read_excel('../Before/lfa1.xlsx')\n",
    "lfa1_after = pd.read_excel('../After/lfa1.xlsx')"
   ]
  },
  {
   "cell_type": "code",
   "execution_count": 99,
   "id": "f4ffa6c7",
   "metadata": {},
   "outputs": [],
   "source": [
    "# lfa1_after.head()"
   ]
  },
  {
   "cell_type": "code",
   "execution_count": 100,
   "id": "51f266db",
   "metadata": {},
   "outputs": [],
   "source": [
    "# lfa1_after['key'] = lfa1_after.apply(lambda row: str(row['Supplier']) + str(row['Partner Bank Type']), axis=1)"
   ]
  },
  {
   "cell_type": "code",
   "execution_count": 101,
   "id": "cfe9b627",
   "metadata": {},
   "outputs": [],
   "source": [
    "# lfa1_before['key'] = lfa1_before.apply(lambda row: str(row['Supplier']) + str(row['Partner Bank Type']), axis=1)"
   ]
  },
  {
   "cell_type": "code",
   "execution_count": 102,
   "id": "9869eb45",
   "metadata": {},
   "outputs": [],
   "source": [
    "lfa1_before.set_index('Supplier', inplace=True)\n",
    "lfa1_after.set_index('Supplier', inplace=True)"
   ]
  },
  {
   "cell_type": "code",
   "execution_count": 103,
   "id": "a668bf22",
   "metadata": {},
   "outputs": [],
   "source": [
    "lfa1_before, lfa1_after = lfa1_before.align(lfa1_after, join='inner', axis=0)"
   ]
  },
  {
   "cell_type": "code",
   "execution_count": 104,
   "id": "b78f2a3d",
   "metadata": {},
   "outputs": [],
   "source": [
    "diffs = lfa1_before.compare(\n",
    "    lfa1_after,\n",
    "    keep_equal=False,      # only show changed cells\n",
    "    keep_shape=False,       # retain full shape if you want blanks where no change\n",
    "    result_names=('Before','After')\n",
    ")"
   ]
  },
  {
   "cell_type": "code",
   "execution_count": 105,
   "id": "8fc73679",
   "metadata": {},
   "outputs": [],
   "source": [
    "diffs.columns = [f\"{col[0]} ({col[1]})\" for col in diffs.columns]"
   ]
  },
  {
   "cell_type": "code",
   "execution_count": 106,
   "id": "928e6307",
   "metadata": {},
   "outputs": [],
   "source": [
    "# diffs.to_excel('../lfa1_allData_changes.xlsx')\n",
    "diffs.to_excel('../lfa1_changes.xlsx')"
   ]
  },
  {
   "cell_type": "code",
   "execution_count": null,
   "id": "ab447114",
   "metadata": {},
   "outputs": [],
   "source": []
  }
 ],
 "metadata": {
  "kernelspec": {
   "display_name": "cleansing",
   "language": "python",
   "name": "python3"
  },
  "language_info": {
   "codemirror_mode": {
    "name": "ipython",
    "version": 3
   },
   "file_extension": ".py",
   "mimetype": "text/x-python",
   "name": "python",
   "nbconvert_exporter": "python",
   "pygments_lexer": "ipython3",
   "version": "3.13.2"
  }
 },
 "nbformat": 4,
 "nbformat_minor": 5
}
