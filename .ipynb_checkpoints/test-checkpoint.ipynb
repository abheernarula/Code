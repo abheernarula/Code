{
 "cells": [
  {
   "cell_type": "code",
   "execution_count": 1,
   "metadata": {},
   "outputs": [],
   "source": [
    "from tqdm import tqdm\n",
    "import pandas as pd\n",
    "tqdm.pandas()"
   ]
  },
  {
   "cell_type": "code",
   "execution_count": 2,
   "metadata": {},
   "outputs": [
    {
     "name": "stderr",
     "output_type": "stream",
     "text": [
      "C:\\Users\\abhena\\AppData\\Local\\Temp\\ipykernel_19796\\2366480377.py:1: DtypeWarning: Columns (22,52,60,61) have mixed types. Specify dtype option on import or set low_memory=False.\n",
      "  lfm1 = pd.read_csv('../Vendor/LFM1.csv')\n"
     ]
    }
   ],
   "source": [
    "lfm1 = pd.read_csv('../Vendor/LFM1.csv')"
   ]
  },
  {
   "cell_type": "code",
   "execution_count": 14,
   "metadata": {},
   "outputs": [
    {
     "name": "stderr",
     "output_type": "stream",
     "text": [
      "C:\\Users\\abhena\\AppData\\Local\\Temp\\ipykernel_19796\\3013073598.py:1: DtypeWarning: Columns (11,18,43,58) have mixed types. Specify dtype option on import or set low_memory=False.\n",
      "  lfb1 = pd.read_csv('../Vendor/LFB1.csv')\n"
     ]
    }
   ],
   "source": [
    "lfb1 = pd.read_csv('../Vendor/LFB1.csv')"
   ]
  },
  {
   "cell_type": "code",
   "execution_count": 3,
   "metadata": {},
   "outputs": [
    {
     "data": {
      "text/html": [
       "<div>\n",
       "<style scoped>\n",
       "    .dataframe tbody tr th:only-of-type {\n",
       "        vertical-align: middle;\n",
       "    }\n",
       "\n",
       "    .dataframe tbody tr th {\n",
       "        vertical-align: top;\n",
       "    }\n",
       "\n",
       "    .dataframe thead th {\n",
       "        text-align: right;\n",
       "    }\n",
       "</style>\n",
       "<table border=\"1\" class=\"dataframe\">\n",
       "  <thead>\n",
       "    <tr style=\"text-align: right;\">\n",
       "      <th></th>\n",
       "      <th>Supplier</th>\n",
       "      <th>Purch. Organization</th>\n",
       "      <th>Created On</th>\n",
       "      <th>Created By</th>\n",
       "      <th>Purch. block for purchasing organization</th>\n",
       "      <th>Delete flag for purchasing organization</th>\n",
       "      <th>ABC indicator</th>\n",
       "      <th>Order currency</th>\n",
       "      <th>Salesperson</th>\n",
       "      <th>Telephone</th>\n",
       "      <th>...</th>\n",
       "      <th>Activity Profile</th>\n",
       "      <th>Transportation Chain</th>\n",
       "      <th>Staging Time</th>\n",
       "      <th>MSME Status</th>\n",
       "      <th>MSME Number</th>\n",
       "      <th>MSME Issue Date</th>\n",
       "      <th>Import/Export Code</th>\n",
       "      <th>Tin Number</th>\n",
       "      <th>ABAC Status</th>\n",
       "      <th>ABAC Reason</th>\n",
       "    </tr>\n",
       "  </thead>\n",
       "  <tbody>\n",
       "    <tr>\n",
       "      <th>0</th>\n",
       "      <td>1000000</td>\n",
       "      <td>5100</td>\n",
       "      <td>4/17/2014</td>\n",
       "      <td>BATCH_MM</td>\n",
       "      <td>NaN</td>\n",
       "      <td>NaN</td>\n",
       "      <td>NaN</td>\n",
       "      <td>INR</td>\n",
       "      <td>NaN</td>\n",
       "      <td>NaN</td>\n",
       "      <td>...</td>\n",
       "      <td>NaN</td>\n",
       "      <td>NaN</td>\n",
       "      <td>0</td>\n",
       "      <td>0.0</td>\n",
       "      <td>NO MSME</td>\n",
       "      <td>9/15/2023</td>\n",
       "      <td>NaN</td>\n",
       "      <td>NaN</td>\n",
       "      <td>NaN</td>\n",
       "      <td>NaN</td>\n",
       "    </tr>\n",
       "    <tr>\n",
       "      <th>1</th>\n",
       "      <td>1000001</td>\n",
       "      <td>5100</td>\n",
       "      <td>4/17/2014</td>\n",
       "      <td>BATCH_MM</td>\n",
       "      <td>NaN</td>\n",
       "      <td>NaN</td>\n",
       "      <td>NaN</td>\n",
       "      <td>INR</td>\n",
       "      <td>NaN</td>\n",
       "      <td>NaN</td>\n",
       "      <td>...</td>\n",
       "      <td>NaN</td>\n",
       "      <td>NaN</td>\n",
       "      <td>0</td>\n",
       "      <td>0.0</td>\n",
       "      <td>NaN</td>\n",
       "      <td>NaN</td>\n",
       "      <td>NaN</td>\n",
       "      <td>NaN</td>\n",
       "      <td>NaN</td>\n",
       "      <td>NaN</td>\n",
       "    </tr>\n",
       "    <tr>\n",
       "      <th>2</th>\n",
       "      <td>1000001</td>\n",
       "      <td>5500</td>\n",
       "      <td>7/23/2024</td>\n",
       "      <td>BATCH_MM</td>\n",
       "      <td>NaN</td>\n",
       "      <td>NaN</td>\n",
       "      <td>NaN</td>\n",
       "      <td>INR</td>\n",
       "      <td>NaN</td>\n",
       "      <td>NaN</td>\n",
       "      <td>...</td>\n",
       "      <td>NaN</td>\n",
       "      <td>NaN</td>\n",
       "      <td>0</td>\n",
       "      <td>0.0</td>\n",
       "      <td>NaN</td>\n",
       "      <td>NaN</td>\n",
       "      <td>NaN</td>\n",
       "      <td>NaN</td>\n",
       "      <td>NaN</td>\n",
       "      <td>NaN</td>\n",
       "    </tr>\n",
       "    <tr>\n",
       "      <th>3</th>\n",
       "      <td>1000002</td>\n",
       "      <td>5100</td>\n",
       "      <td>4/17/2014</td>\n",
       "      <td>BATCH_MM</td>\n",
       "      <td>X</td>\n",
       "      <td>X</td>\n",
       "      <td>NaN</td>\n",
       "      <td>INR</td>\n",
       "      <td>NaN</td>\n",
       "      <td>NaN</td>\n",
       "      <td>...</td>\n",
       "      <td>NaN</td>\n",
       "      <td>NaN</td>\n",
       "      <td>0</td>\n",
       "      <td>0.0</td>\n",
       "      <td>NaN</td>\n",
       "      <td>NaN</td>\n",
       "      <td>NaN</td>\n",
       "      <td>NaN</td>\n",
       "      <td>NaN</td>\n",
       "      <td>NaN</td>\n",
       "    </tr>\n",
       "    <tr>\n",
       "      <th>4</th>\n",
       "      <td>1000003</td>\n",
       "      <td>5100</td>\n",
       "      <td>4/17/2014</td>\n",
       "      <td>BATCH_MM</td>\n",
       "      <td>X</td>\n",
       "      <td>X</td>\n",
       "      <td>NaN</td>\n",
       "      <td>INR</td>\n",
       "      <td>NaN</td>\n",
       "      <td>NaN</td>\n",
       "      <td>...</td>\n",
       "      <td>NaN</td>\n",
       "      <td>NaN</td>\n",
       "      <td>0</td>\n",
       "      <td>0.0</td>\n",
       "      <td>NaN</td>\n",
       "      <td>NaN</td>\n",
       "      <td>NaN</td>\n",
       "      <td>NaN</td>\n",
       "      <td>NaN</td>\n",
       "      <td>NaN</td>\n",
       "    </tr>\n",
       "  </tbody>\n",
       "</table>\n",
       "<p>5 rows × 64 columns</p>\n",
       "</div>"
      ],
      "text/plain": [
       "   Supplier  Purch. Organization Created On Created By  \\\n",
       "0   1000000                 5100  4/17/2014   BATCH_MM   \n",
       "1   1000001                 5100  4/17/2014   BATCH_MM   \n",
       "2   1000001                 5500  7/23/2024   BATCH_MM   \n",
       "3   1000002                 5100  4/17/2014   BATCH_MM   \n",
       "4   1000003                 5100  4/17/2014   BATCH_MM   \n",
       "\n",
       "  Purch. block for purchasing organization  \\\n",
       "0                                      NaN   \n",
       "1                                      NaN   \n",
       "2                                      NaN   \n",
       "3                                        X   \n",
       "4                                        X   \n",
       "\n",
       "  Delete flag for purchasing organization  ABC indicator Order currency  \\\n",
       "0                                     NaN            NaN            INR   \n",
       "1                                     NaN            NaN            INR   \n",
       "2                                     NaN            NaN            INR   \n",
       "3                                       X            NaN            INR   \n",
       "4                                       X            NaN            INR   \n",
       "\n",
       "   Salesperson  Telephone  ...  Activity Profile Transportation Chain  \\\n",
       "0          NaN        NaN  ...               NaN                  NaN   \n",
       "1          NaN        NaN  ...               NaN                  NaN   \n",
       "2          NaN        NaN  ...               NaN                  NaN   \n",
       "3          NaN        NaN  ...               NaN                  NaN   \n",
       "4          NaN        NaN  ...               NaN                  NaN   \n",
       "\n",
       "  Staging Time MSME Status MSME Number  MSME Issue Date Import/Export Code  \\\n",
       "0            0         0.0     NO MSME        9/15/2023                NaN   \n",
       "1            0         0.0         NaN              NaN                NaN   \n",
       "2            0         0.0         NaN              NaN                NaN   \n",
       "3            0         0.0         NaN              NaN                NaN   \n",
       "4            0         0.0         NaN              NaN                NaN   \n",
       "\n",
       "   Tin Number  ABAC Status  ABAC Reason  \n",
       "0         NaN          NaN          NaN  \n",
       "1         NaN          NaN          NaN  \n",
       "2         NaN          NaN          NaN  \n",
       "3         NaN          NaN          NaN  \n",
       "4         NaN          NaN          NaN  \n",
       "\n",
       "[5 rows x 64 columns]"
      ]
     },
     "execution_count": 3,
     "metadata": {},
     "output_type": "execute_result"
    }
   ],
   "source": [
    "lfm1.head()"
   ]
  },
  {
   "cell_type": "code",
   "execution_count": 4,
   "metadata": {},
   "outputs": [],
   "source": [
    "def checkActive(table, row, *cols):\n",
    "    res = False\n",
    "    for col in cols:\n",
    "        if pd.isnull(row[col]) or str(row[col]).strip() == '' or str(row[col]).lower() == 'nan':\n",
    "            pass\n",
    "        else:\n",
    "            res = res or row[col] == 'X'\n",
    "    return not res"
   ]
  },
  {
   "cell_type": "code",
   "execution_count": 5,
   "metadata": {},
   "outputs": [
    {
     "name": "stderr",
     "output_type": "stream",
     "text": [
      "100%|██████████| 16460/16460 [00:00<00:00, 55900.05it/s]\n"
     ]
    }
   ],
   "source": [
    "lfm1['IsActive'] = lfm1.progress_apply(lambda row: checkActive(lfm1, row, 'Purch. block for purchasing organization', 'Delete flag for purchasing organization'), axis=1)"
   ]
  },
  {
   "cell_type": "code",
   "execution_count": 15,
   "metadata": {},
   "outputs": [
    {
     "name": "stderr",
     "output_type": "stream",
     "text": [
      "100%|██████████| 16486/16486 [00:00<00:00, 73583.50it/s]\n"
     ]
    }
   ],
   "source": [
    "lfb1['IsActive'] = lfb1.progress_apply(lambda row: checkActive(lfb1, row, 'Posting block for company code', 'Deletion Flag for Company Code'), axis=1)"
   ]
  },
  {
   "cell_type": "code",
   "execution_count": 30,
   "metadata": {},
   "outputs": [],
   "source": [
    "inactive = lfm1[lfm1['IsActive']==False]['Supplier'].to_list()"
   ]
  },
  {
   "cell_type": "code",
   "execution_count": 38,
   "metadata": {},
   "outputs": [
    {
     "data": {
      "text/plain": [
       "9693"
      ]
     },
     "execution_count": 38,
     "metadata": {},
     "output_type": "execute_result"
    }
   ],
   "source": [
    "len(lfb1[lfb1['IsActive']==False]['Supplier'].to_list())"
   ]
  },
  {
   "cell_type": "code",
   "execution_count": 40,
   "metadata": {},
   "outputs": [],
   "source": [
    "inactive = inactive + lfb1[lfb1['IsActive']==False]['Supplier'].to_list()"
   ]
  },
  {
   "cell_type": "code",
   "execution_count": null,
   "metadata": {},
   "outputs": [],
   "source": []
  }
 ],
 "metadata": {
  "kernelspec": {
   "display_name": "cleansing",
   "language": "python",
   "name": "python3"
  },
  "language_info": {
   "codemirror_mode": {
    "name": "ipython",
    "version": 3
   },
   "file_extension": ".py",
   "mimetype": "text/x-python",
   "name": "python",
   "nbconvert_exporter": "python",
   "pygments_lexer": "ipython3",
   "version": "3.13.2"
  }
 },
 "nbformat": 4,
 "nbformat_minor": 2
}
