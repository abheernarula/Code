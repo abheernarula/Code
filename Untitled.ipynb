{
 "cells": [
  {
   "cell_type": "code",
   "execution_count": 1,
   "id": "29db07f7-0c3c-45a6-86d0-4a898235c85f",
   "metadata": {},
   "outputs": [],
   "source": [
    "import pandas as pd\n",
    "import os"
   ]
  },
  {
   "cell_type": "code",
   "execution_count": 2,
   "id": "b59b3265",
   "metadata": {},
   "outputs": [],
   "source": [
    "vendorMaster = \"../Vendor/july21/activeVendorMaster.xlsx\""
   ]
  },
  {
   "cell_type": "code",
   "execution_count": 4,
   "id": "4c4c8ee2",
   "metadata": {},
   "outputs": [],
   "source": [
    "# lfa1 = pd.read_excel(vendorMaster, sheet_name='LFA1')\n",
    "lfb1 = pd.read_excel(vendorMaster, sheet_name='LFB1')\n",
    "# lfm1 = pd.read_excel(vendorMaster, sheet_name='LFM1')\n",
    "# lfbk = pd.read_excel(vendorMaster, sheet_name='LFBK')\n",
    "# adrc = pd.read_excel(vendorMaster, sheet_name='ADRC')\n",
    "# j_1imovend = pd.read_excel(vendorMaster, sheet_name='J_1IMOVEND')\n",
    "# adr6 = pd.read_excel(vendorMaster, sheet_name='V_ADR6')"
   ]
  },
  {
   "cell_type": "code",
   "execution_count": 9,
   "id": "89755914",
   "metadata": {},
   "outputs": [
    {
     "data": {
      "text/plain": [
       "[5100, 5500]"
      ]
     },
     "execution_count": 9,
     "metadata": {},
     "output_type": "execute_result"
    }
   ],
   "source": [
    "lfb1[lfb1['Supplier']==1000001]['Company Code'].unique().tolist()"
   ]
  },
  {
   "cell_type": "code",
   "execution_count": null,
   "id": "3a23c434",
   "metadata": {},
   "outputs": [
    {
     "data": {
      "text/plain": [
       "3022"
      ]
     },
     "execution_count": 23,
     "metadata": {},
     "output_type": "execute_result"
    }
   ],
   "source": [
    "p1 = pd.read_excel('../Vendor/p2VendorMaster.xlsx', sheet_name='LFA1')['Supplier'].to_list()\n",
    "len(p1)"
   ]
  },
  {
   "cell_type": "code",
   "execution_count": 26,
   "id": "944f3da5",
   "metadata": {},
   "outputs": [],
   "source": [
    "def classifyInactive(table, row, inactive: list):\n",
    "    return row['Supplier'] in inactive"
   ]
  },
  {
   "cell_type": "code",
   "execution_count": 27,
   "id": "a30b1589",
   "metadata": {},
   "outputs": [
    {
     "data": {
      "text/plain": [
       "Index(['Address Number', 'E-Mail Address', 'Supplier', 'Address', 'Country',\n",
       "       'Inactive'],\n",
       "      dtype='object')"
      ]
     },
     "execution_count": 27,
     "metadata": {},
     "output_type": "execute_result"
    }
   ],
   "source": [
    "adr6.columns"
   ]
  },
  {
   "cell_type": "code",
   "execution_count": 28,
   "id": "f0fb228b",
   "metadata": {},
   "outputs": [
    {
     "data": {
      "text/plain": [
       "Index(['Address Number', 'Postal Code', 'Street', 'Street 2', 'Street 3',\n",
       "       'Street 4', 'Street 5', 'Postal Code.1', 'PO Box Postal Code', 'PO Box',\n",
       "       'Supplier', 'Address', 'Country', 'Inactive'],\n",
       "      dtype='object')"
      ]
     },
     "execution_count": 28,
     "metadata": {},
     "output_type": "execute_result"
    }
   ],
   "source": [
    "adrc.columns"
   ]
  },
  {
   "cell_type": "code",
   "execution_count": 29,
   "id": "abf1a54e",
   "metadata": {},
   "outputs": [],
   "source": [
    "lfa1['p1'] = lfa1.apply(lambda row: classifyInactive(lfa1, row, p1), axis=1)\n",
    "lfb1['p1'] = lfb1.apply(lambda row: classifyInactive(lfb1, row, p1), axis=1)\n",
    "lfm1['p1'] = lfm1.apply(lambda row: classifyInactive(lfm1, row, p1), axis=1)\n",
    "lfbk['p1'] = lfbk.apply(lambda row: classifyInactive(lfbk, row, p1), axis=1)\n",
    "adrc['p1'] = adrc.apply(lambda row: classifyInactive(adrc, row, p1), axis=1)\n",
    "adr6['p1'] = adr6.apply(lambda row: classifyInactive(adr6, row, p1), axis=1)\n",
    "j_1imovend['p1'] = j_1imovend.apply(lambda row: classifyInactive(j_1imovend, row, p1), axis=1)"
   ]
  },
  {
   "cell_type": "code",
   "execution_count": 31,
   "id": "43636eb2",
   "metadata": {},
   "outputs": [],
   "source": [
    "lfa1_active = lfa1[lfa1['p1']==False]\n",
    "lfb1_active = lfb1[lfb1['p1']==False]\n",
    "lfm1_active = lfm1[lfm1['p1']==False]\n",
    "lfbk_active = lfbk[lfbk['p1']==False]\n",
    "adrc_active = adrc[adrc['p1']==False]\n",
    "adr6_active = adr6[adr6['p1']==False]\n",
    "j_1imovend_active = j_1imovend[j_1imovend['p1']==False]"
   ]
  },
  {
   "cell_type": "code",
   "execution_count": 34,
   "id": "c97b3ff2",
   "metadata": {},
   "outputs": [],
   "source": [
    "# output_dir = \"/\".join(vendorMaster.split('/')[:-1])\n",
    "output_dir = \"../Vendor/july21\"\n",
    "output_path = os.path.join(output_dir, 'p2VendorMaster.xlsx')\n",
    "tables = [lfa1_active, lfb1_active, lfm1_active, lfbk_active, adrc_active, adr6_active, j_1imovend_active]\n",
    "sheets = ['LFA1', 'LFB1', 'LFM1', 'LFBK', 'ADRC', 'V_ADR6', 'J_1IMOVEND']"
   ]
  },
  {
   "cell_type": "code",
   "execution_count": 35,
   "id": "d03f1a20",
   "metadata": {},
   "outputs": [],
   "source": [
    "with pd.ExcelWriter(output_path, engine='openpyxl') as writer:\n",
    "        for idx, table in enumerate(tables):\n",
    "            table.to_excel(writer, sheet_name=sheets[idx], index=False)"
   ]
  },
  {
   "cell_type": "code",
   "execution_count": 1,
   "id": "78eaa7e7",
   "metadata": {},
   "outputs": [],
   "source": [
    "map_mara = {\n",
    "    \"MATNR\": \"Material\",\n",
    "    # \"WERKS\": \"Plants\",  # ⚠️ Not in MARA; this is from MARC\n",
    "    \"MTART\": \"Material Type\",\n",
    "    \"MAKTX\": \"Material Description\",      # ⚠️ Technically from MAKT\n",
    "    \"MAKTG\": \"Material description\",      # ⚠️ SAP does not have both – likely duplicate or typo\n",
    "    \"MEINS\": \"Base Unit of Measure\",\n",
    "    \"MTPOS_MARA\": \"Gen. item cat. grp\",  # ⚠️ Could be MVGR1 in some custom systems\n",
    "    \"MATKL\": \"Material Group\",\n",
    "    \"ATTYP\": \"Material Category\",      # ⚠️ Likely custom, not standard MARA\n",
    "    \"MBRSH\": \"Industry\",\n",
    "    \"BISMT\": \"Int. material number\",\n",
    "    \"MSTAE\": \"X-plant matl status\",\n",
    "    \"SPART\": \"Division\",\n",
    "    \"RBNRM\": \"catalog\",                   # ⚠️ WRKST is \"Basic material description\", catalog could be Z-field\n",
    "    \"TRAGR\": \"Transportation Group\",\n",
    "    \"XCHPF\": \"Batch management\",\n",
    "    \"MPROF\": \"Mfr Part Profile\",          # ⚠️ MFRPN is Manufacturer Part Number; MFRNR is Manufacturer\n",
    "    \"EKWSL\": \"Purchasing value key\",\n",
    "    \"QMPUR\": \"QM proc. active\",\n",
    "    \"ERSDA\": \"Created On\",\n",
    "    \"ERNAM\": \"Created By\"\n",
    "}"
   ]
  },
  {
   "cell_type": "code",
   "execution_count": 3,
   "id": "e3138c08",
   "metadata": {},
   "outputs": [
    {
     "data": {
      "text/plain": [
       "dict_keys(['MATNR', 'MTART', 'MAKTX', 'MAKTG', 'MEINS', 'MTPOS_MARA', 'MATKL', 'ATTYP', 'MBRSH', 'BISMT', 'MSTAE', 'SPART', 'RBNRM', 'TRAGR', 'XCHPF', 'MPROF', 'EKWSL', 'QMPUR', 'ERSDA', 'ERNAM'])"
      ]
     },
     "execution_count": 3,
     "metadata": {},
     "output_type": "execute_result"
    }
   ],
   "source": [
    "map_mara.keys()"
   ]
  },
  {
   "cell_type": "code",
   "execution_count": 4,
   "id": "ac96a556",
   "metadata": {},
   "outputs": [],
   "source": [
    "map_marc = {\n",
    "    \"MATNR\": \"Material\",\n",
    "    # \"WERKS\": \"Plants\",                        # or \"Plant\"\n",
    "    \"WERKS\": \"Plant\",                         # both map to same field\n",
    "    \"STEUC\": \"Control code\",                  # ⚠️ Also known as \"Commodity Code\"\n",
    "    \"ZZONE\": \"Zone Category\",                 # ⚠️ May be custom/localization-specific\n",
    "    \"STGEH\": \"Storage condition\",\n",
    "    \"SSQSS\": \"QM Control Key\",                # or possibly QMAT table — verify\n",
    "    \"LADGR\": \"Loading Group\",\n",
    "    \"PRCTR\": \"Profit Center\",\n",
    "    \"DISPO\": \"MRP Controller\",\n",
    "    \"DISMM\": \"MRP Type\",\n",
    "    \"EKGRP\": \"Purchasing Group\",\n",
    "    \"LGPRO\": \"Prod. stor. location\",\n",
    "    \"XCHPF\": \"Batch management\",\n",
    "    \"MAABC\": \"ABC Indicator\",                 # ⚠️ Often custom (standard field is \"ABCSCHL\")\n",
    "    \"BESKZ\": \"Procurement type\",\n",
    "    \"MTVFP\": \"Availability check\",\n",
    "    \"CASNR\": \"CAS number (pharm.)\",           # ⚠️ Not standard MARC – likely custom or from EH&S\n",
    "    \"FEVOR\": \"Prodn Supervisor\",\n",
    "    \"SFEPR\": \"Prod.Sched.Profile\",\n",
    "    \"QZGTP\": \"Certificate type\",              # ⚠️ Likely custom Z-field\n",
    "    \"ZZACCASSCAT\": \"Acct Assignment Cat.\"           # or sometimes \"KZKUP\"\n",
    "}"
   ]
  },
  {
   "cell_type": "code",
   "execution_count": 5,
   "id": "68bf322e",
   "metadata": {},
   "outputs": [
    {
     "data": {
      "text/plain": [
       "dict_keys(['MATNR', 'WERKS', 'STEUC', 'ZZONE', 'STGEH', 'SSQSS', 'LADGR', 'PRCTR', 'DISPO', 'DISMM', 'EKGRP', 'LGPRO', 'XCHPF', 'MAABC', 'BESKZ', 'MTVFP', 'CASNR', 'FEVOR', 'SFEPR', 'QZGTP', 'ZZACCASSCAT'])"
      ]
     },
     "execution_count": 5,
     "metadata": {},
     "output_type": "execute_result"
    }
   ],
   "source": [
    "map_marc.keys()"
   ]
  },
  {
   "cell_type": "code",
   "execution_count": 6,
   "id": "f712d8a8",
   "metadata": {},
   "outputs": [],
   "source": [
    "map_mbew = {\n",
    "    \"MATNR\": \"Material\",\n",
    "    # \"BWKEY\": \"Plants\",              # Also known as \"Valuation Area\"\n",
    "    \"BKLAS\": \"Valuation Class\",\n",
    "    \"VPRSV\": \"Price Control\",\n",
    "    \"BWKEY\": \"Valuation Area\",      # same as Plants (duplicate mapping to BWKEY)\n",
    "    \"BWTAR\": \"Valuation Type\",\n",
    "    \"BWTTY\": \"Valuation Category\"   # ⚠️ Not quite — standard SAP does **not** have a separate \"Valuation Category\" field in MBEW. Likely custom.\n",
    "}"
   ]
  },
  {
   "cell_type": "code",
   "execution_count": 7,
   "id": "523c290a",
   "metadata": {},
   "outputs": [
    {
     "data": {
      "text/plain": [
       "dict_keys(['MATNR', 'BKLAS', 'VPRSV', 'BWKEY', 'BWTAR', 'BWTTY'])"
      ]
     },
     "execution_count": 7,
     "metadata": {},
     "output_type": "execute_result"
    }
   ],
   "source": [
    "map_mbew.keys()"
   ]
  },
  {
   "cell_type": "code",
   "execution_count": 1,
   "id": "2ce19b20",
   "metadata": {},
   "outputs": [],
   "source": [
    "system = {\n",
    "    'SAP' : ['lfa1', 'lfb1'],\n",
    "    'SFDC': ['Account']\n",
    "}"
   ]
  },
  {
   "cell_type": "code",
   "execution_count": 7,
   "id": "b3cddf93",
   "metadata": {},
   "outputs": [
    {
     "data": {
      "text/plain": [
       "dict_values([['lfa1', 'lfb1'], ['Account']])"
      ]
     },
     "execution_count": 7,
     "metadata": {},
     "output_type": "execute_result"
    }
   ],
   "source": [
    "system.values()"
   ]
  },
  {
   "cell_type": "code",
   "execution_count": 1,
   "id": "b1766ec2",
   "metadata": {},
   "outputs": [],
   "source": [
    "import pandas as pd"
   ]
  },
  {
   "cell_type": "code",
   "execution_count": 4,
   "id": "8618567b",
   "metadata": {},
   "outputs": [],
   "source": [
    "mara_df = pd.read_excel('../Material/july31/ZRDM.xlsx', sheet_name='MARA')\n",
    "marc_df = pd.read_excel('../Material/july31/ZRDM.xlsx', sheet_name='MARC')\n",
    "mbew_df = pd.read_excel('../Material/july31/ZRDM.xlsx', sheet_name='MBEW')\n",
    "mlan_df = pd.read_excel('../Material/july31/ZRDM.xlsx', sheet_name='MLAN')\n",
    "mvke_df = pd.read_excel('../Material/july31/ZRDM.xlsx', sheet_name='MVKE')\n",
    "potext = pd.read_excel('../Material/july31/ZRDM.xlsx', sheet_name='POTEXT')"
   ]
  },
  {
   "cell_type": "code",
   "execution_count": 7,
   "id": "d9f98c4a",
   "metadata": {},
   "outputs": [
    {
     "data": {
      "text/plain": [
       "Index(['Material', 'Plant', 'Maintenance status', 'DF at plant level',\n",
       "       'Valuation Category', 'Batch management', 'Plant-sp.matl status',\n",
       "       'Valid from', 'ABC Indicator', 'Critical Part',\n",
       "       ...\n",
       "       'Mfg. License Description.4', 'PO Text', 'USAGE', 'Category', 'Remarks',\n",
       "       'Critical check Box', 'SalesforceID', 'Storage condition',\n",
       "       'Zone Category', 'Plant level'],\n",
       "      dtype='object', length=265)"
      ]
     },
     "execution_count": 7,
     "metadata": {},
     "output_type": "execute_result"
    }
   ],
   "source": [
    "marc_df.columns"
   ]
  },
  {
   "cell_type": "code",
   "execution_count": 18,
   "id": "d126ad68",
   "metadata": {},
   "outputs": [
    {
     "data": {
      "text/html": [
       "<div>\n",
       "<style scoped>\n",
       "    .dataframe tbody tr th:only-of-type {\n",
       "        vertical-align: middle;\n",
       "    }\n",
       "\n",
       "    .dataframe tbody tr th {\n",
       "        vertical-align: top;\n",
       "    }\n",
       "\n",
       "    .dataframe thead th {\n",
       "        text-align: right;\n",
       "    }\n",
       "</style>\n",
       "<table border=\"1\" class=\"dataframe\">\n",
       "  <thead>\n",
       "    <tr style=\"text-align: right;\">\n",
       "      <th></th>\n",
       "      <th>Material</th>\n",
       "      <th>Plant</th>\n",
       "    </tr>\n",
       "  </thead>\n",
       "  <tbody>\n",
       "    <tr>\n",
       "      <th>0</th>\n",
       "      <td>630000166</td>\n",
       "      <td>5101, 5113, 5131, 5141, 5151, 5152, 5161, 5163...</td>\n",
       "    </tr>\n",
       "    <tr>\n",
       "      <th>1</th>\n",
       "      <td>630000246</td>\n",
       "      <td>5101, 5113, 5131, 5141, 5151, 5152, 5161, 5163...</td>\n",
       "    </tr>\n",
       "    <tr>\n",
       "      <th>2</th>\n",
       "      <td>630000328</td>\n",
       "      <td>5101, 5113, 5131, 5141, 5151, 5152, 5161, 5163...</td>\n",
       "    </tr>\n",
       "    <tr>\n",
       "      <th>3</th>\n",
       "      <td>630000703</td>\n",
       "      <td>5101, 5113, 5131, 5141, 5151, 5152, 5161, 5163...</td>\n",
       "    </tr>\n",
       "    <tr>\n",
       "      <th>4</th>\n",
       "      <td>630000722</td>\n",
       "      <td>5101, 5113, 5131, 5141, 5151, 5152, 5161, 5163...</td>\n",
       "    </tr>\n",
       "    <tr>\n",
       "      <th>...</th>\n",
       "      <td>...</td>\n",
       "      <td>...</td>\n",
       "    </tr>\n",
       "    <tr>\n",
       "      <th>3120</th>\n",
       "      <td>630084004</td>\n",
       "      <td>5163</td>\n",
       "    </tr>\n",
       "    <tr>\n",
       "      <th>3121</th>\n",
       "      <td>630084005</td>\n",
       "      <td>5161</td>\n",
       "    </tr>\n",
       "    <tr>\n",
       "      <th>3122</th>\n",
       "      <td>630084006</td>\n",
       "      <td>5163</td>\n",
       "    </tr>\n",
       "    <tr>\n",
       "      <th>3123</th>\n",
       "      <td>630084007</td>\n",
       "      <td>5163</td>\n",
       "    </tr>\n",
       "    <tr>\n",
       "      <th>3124</th>\n",
       "      <td>630084008</td>\n",
       "      <td>5163</td>\n",
       "    </tr>\n",
       "  </tbody>\n",
       "</table>\n",
       "<p>3125 rows × 2 columns</p>\n",
       "</div>"
      ],
      "text/plain": [
       "       Material                                              Plant\n",
       "0     630000166  5101, 5113, 5131, 5141, 5151, 5152, 5161, 5163...\n",
       "1     630000246  5101, 5113, 5131, 5141, 5151, 5152, 5161, 5163...\n",
       "2     630000328  5101, 5113, 5131, 5141, 5151, 5152, 5161, 5163...\n",
       "3     630000703  5101, 5113, 5131, 5141, 5151, 5152, 5161, 5163...\n",
       "4     630000722  5101, 5113, 5131, 5141, 5151, 5152, 5161, 5163...\n",
       "...         ...                                                ...\n",
       "3120  630084004                                               5163\n",
       "3121  630084005                                               5161\n",
       "3122  630084006                                               5163\n",
       "3123  630084007                                               5163\n",
       "3124  630084008                                               5163\n",
       "\n",
       "[3125 rows x 2 columns]"
      ]
     },
     "execution_count": 18,
     "metadata": {},
     "output_type": "execute_result"
    }
   ],
   "source": [
    "plants = marc_df.groupby('Material')['Plant'].apply(lambda x: ', '.join(map(str,x))).reset_index()[['Material', 'Plant']]\n",
    "plants"
   ]
  },
  {
   "cell_type": "code",
   "execution_count": 19,
   "id": "af6c124a",
   "metadata": {},
   "outputs": [],
   "source": [
    "mara_df = pd.merge(mara_df, plants, on='Material', how='left')\n",
    "marc_df = pd.merge(marc_df, plants, on='Material', how='left')\n",
    "mbew_df = pd.merge(mbew_df, plants, on='Material', how='left')\n",
    "mlan_df = pd.merge(mlan_df, plants, on='Material', how='left')\n",
    "mvke_df = pd.merge(mvke_df, plants, on='Material', how='left')"
   ]
  },
  {
   "cell_type": "code",
   "execution_count": 20,
   "id": "ce3c1c93",
   "metadata": {},
   "outputs": [],
   "source": [
    "tbs = [mara_df, marc_df, mbew_df, mlan_df, mvke_df]\n",
    "sheets = ['MARA', 'MARC', 'MBEW', 'MLAN', 'MVKE']"
   ]
  },
  {
   "cell_type": "code",
   "execution_count": 21,
   "id": "dc92d828",
   "metadata": {},
   "outputs": [],
   "source": [
    "out = '../Material/july31/ZRDM_updated.xlsx'\n",
    "with pd.ExcelWriter(out, engine='openpyxl') as writer:\n",
    "    for idx, table in enumerate(tbs):\n",
    "        table.to_excel(writer, sheet_name=sheets[idx], index=False)"
   ]
  },
  {
   "cell_type": "code",
   "execution_count": null,
   "id": "39f89357",
   "metadata": {},
   "outputs": [],
   "source": []
  }
 ],
 "metadata": {
  "kernelspec": {
   "display_name": "Python 3",
   "language": "python",
   "name": "python3"
  },
  "language_info": {
   "codemirror_mode": {
    "name": "ipython",
    "version": 3
   },
   "file_extension": ".py",
   "mimetype": "text/x-python",
   "name": "python",
   "nbconvert_exporter": "python",
   "pygments_lexer": "ipython3",
   "version": "3.10.0"
  }
 },
 "nbformat": 4,
 "nbformat_minor": 5
}
