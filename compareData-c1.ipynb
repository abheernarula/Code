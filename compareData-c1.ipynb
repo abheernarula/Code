{
 "cells": [
  {
   "cell_type": "code",
   "execution_count": 1,
   "id": "5d9c6921",
   "metadata": {},
   "outputs": [],
   "source": [
    "import pandas as pd"
   ]
  },
  {
   "cell_type": "code",
   "execution_count": 89,
   "id": "ae3c29a7",
   "metadata": {},
   "outputs": [],
   "source": [
    "knvv_mdg = pd.read_excel('../sync/c-after-sync/mdg/knvv.xlsx', dtype=str)\n",
    "knvv_ecc = pd.read_excel('../sync/c-after-sync/ecc/knvv.xlsx', dtype=str)"
   ]
  },
  {
   "cell_type": "code",
   "execution_count": 90,
   "id": "d45b7726",
   "metadata": {},
   "outputs": [
    {
     "name": "stdout",
     "output_type": "stream",
     "text": [
      "80\n",
      "80\n"
     ]
    }
   ],
   "source": [
    "print(len(knvv_ecc.columns))\n",
    "print(len(knvv_mdg.columns))"
   ]
  },
  {
   "cell_type": "code",
   "execution_count": 91,
   "id": "6bdb544d",
   "metadata": {},
   "outputs": [],
   "source": [
    "cols_mdg = set(knvv_mdg.columns.str.lower())\n",
    "cols_ecc = set(knvv_ecc.columns.str.lower())"
   ]
  },
  {
   "cell_type": "code",
   "execution_count": 92,
   "id": "f3af0234",
   "metadata": {},
   "outputs": [],
   "source": [
    "only_in_mdg = sorted(cols_mdg - cols_ecc)\n",
    "only_in_ecc = sorted(cols_ecc - cols_mdg)"
   ]
  },
  {
   "cell_type": "code",
   "execution_count": 93,
   "id": "92a07075",
   "metadata": {},
   "outputs": [],
   "source": [
    "df_only_mdg = pd.DataFrame({'In mdg not in ECC': only_in_mdg})\n",
    "df_only_ecc = pd.DataFrame({'In ECC not in mdg': only_in_ecc})"
   ]
  },
  {
   "cell_type": "code",
   "execution_count": 94,
   "id": "e825d9f2",
   "metadata": {},
   "outputs": [
    {
     "name": "stdout",
     "output_type": "stream",
     "text": [
      "      In ECC not in mdg\n",
      "0  cust credit category\n",
      "1             geography\n",
      "2         industry type\n",
      "  In mdg not in ECC\n",
      "0  customer group 1\n",
      "1  customer group 2\n",
      "2  customer group 3\n"
     ]
    }
   ],
   "source": [
    "print(df_only_ecc)\n",
    "print(df_only_mdg)"
   ]
  },
  {
   "cell_type": "code",
   "execution_count": null,
   "id": "58d21bd5",
   "metadata": {},
   "outputs": [],
   "source": [
    "with pd.ExcelWriter('../sync/c-after-sync/column_mismatch_knvv.xlsx', engine='openpyxl') as writer:\n",
    "    df_only_mdg.to_excel(writer, sheet_name='In mdg', index=False)\n",
    "    df_only_ecc.to_excel(writer, sheet_name='In ECC', index=False)"
   ]
  },
  {
   "cell_type": "code",
   "execution_count": 96,
   "id": "e8f5c6a6",
   "metadata": {},
   "outputs": [],
   "source": [
    "n_cols_ecc = list(set(knvv_ecc.columns) - (set(knvv_ecc.columns) - set(knvv_mdg.columns)))\n",
    "n_cols_mdg = list(set(knvv_mdg.columns) - (set(knvv_mdg.columns) - set(knvv_ecc.columns)))"
   ]
  },
  {
   "cell_type": "code",
   "execution_count": 73,
   "id": "b3d3d195",
   "metadata": {},
   "outputs": [],
   "source": [
    "n_cols_ecc.append('Supplier')\n",
    "n_cols_mdg.append('Vendor')"
   ]
  },
  {
   "cell_type": "code",
   "execution_count": 97,
   "id": "38bab1f6",
   "metadata": {},
   "outputs": [],
   "source": [
    "knvv_ecc = knvv_ecc[n_cols_ecc]\n",
    "knvv_mdg = knvv_mdg[n_cols_mdg]"
   ]
  },
  {
   "cell_type": "code",
   "execution_count": 98,
   "id": "5ee8ca3c",
   "metadata": {},
   "outputs": [
    {
     "name": "stdout",
     "output_type": "stream",
     "text": [
      "Index(['Overdeliv. Tolerance', 'Exchange Rate Type', 'Product attribute 3',\n",
      "       'Price determination', 'Order probability', 'Batch split allowed',\n",
      "       'Paymt guarant. proc.', 'Unit of Measure Grp', 'Incoterms (Part 2)',\n",
      "       'Part.dlv./item', 'Rebate index', 'Order Combination',\n",
      "       'Agency business', 'Authorization Group', 'Underdel. Tolerance',\n",
      "       'Cust.pric.procedure', 'Incoterms Location 2', 'Cost estimate',\n",
      "       'Switch off rounding', 'Customer Statistics Group', 'Price List',\n",
      "       'Rebate', 'Item proposal', 'Division', 'Delivering Plant',\n",
      "       'Product attribute 9', 'Empties Deposits frm', 'Invoice list sched.',\n",
      "       'Business Purpose Completed Flag', 'Relevant for POD', 'Emp.Update Off',\n",
      "       'Shipping Conditions', 'Cust.Acct.Assg.Group', 'Product attribute 6',\n",
      "       'Customer group 5', 'Prod.prop. customer proced.', 'Max. cost estimate',\n",
      "       'Product attribute 5', 'Product attribute 2', 'Product attribute 8',\n",
      "       'Carrier is to be notified', 'Complete delivery',\n",
      "       'Distribution Channel', 'Account at customer', 'Incoterms',\n",
      "       'Invoicing dates', 'Timeframe for POD', 'Delivery Priority',\n",
      "       'Incoterms Location 1', 'Customer', 'Credit Control Area', 'Currency',\n",
      "       'Customer group 4', 'Terms of Payment', 'Customer group',\n",
      "       'Doc. Index Active', 'Product attribute 1', 'Product attribute 7',\n",
      "       'Billing block for sales area', 'Unlimited tolerance',\n",
      "       'Sales Organization', 'Man.invoice mainten.', 'Incoterms Version',\n",
      "       'ABC classification', 'Created On', 'Sales district', 'Price group',\n",
      "       'Product attribute 10', 'Del. indicator for sales area',\n",
      "       'Order block for sales area', 'Delivery block for sales area',\n",
      "       'Max.Part.Deliveries', 'Sales block for sales area', 'Sales Group',\n",
      "       'Product attribute 4', 'Sales Office'],\n",
      "      dtype='object')\n",
      "Index(['Overdeliv. Tolerance', 'Exchange Rate Type', 'Product attribute 3',\n",
      "       'Price determination', 'Order probability', 'Batch split allowed',\n",
      "       'Paymt guarant. proc.', 'Unit of Measure Grp', 'Incoterms (Part 2)',\n",
      "       'Part.dlv./item', 'Rebate index', 'Order Combination',\n",
      "       'Agency business', 'Authorization Group', 'Underdel. Tolerance',\n",
      "       'Cust.pric.procedure', 'Incoterms Location 2', 'Cost estimate',\n",
      "       'Switch off rounding', 'Customer Statistics Group', 'Price List',\n",
      "       'Rebate', 'Item proposal', 'Division', 'Delivering Plant',\n",
      "       'Product attribute 9', 'Empties Deposits frm', 'Invoice list sched.',\n",
      "       'Business Purpose Completed Flag', 'Relevant for POD', 'Emp.Update Off',\n",
      "       'Cust.Acct.Assg.Group', 'Product attribute 6', 'Customer group 5',\n",
      "       'Prod.prop. customer proced.', 'Shipping Conditions',\n",
      "       'Max. cost estimate', 'Product attribute 5', 'Product attribute 2',\n",
      "       'Product attribute 8', 'Carrier is to be notified', 'Complete delivery',\n",
      "       'Distribution Channel', 'Account at customer', 'Incoterms',\n",
      "       'Invoicing dates', 'Timeframe for POD', 'Delivery Priority',\n",
      "       'Incoterms Location 1', 'Customer', 'Credit Control Area', 'Currency',\n",
      "       'Customer group 4', 'Terms of Payment', 'Doc. Index Active',\n",
      "       'Product attribute 1', 'Product attribute 7',\n",
      "       'Billing block for sales area', 'Unlimited tolerance',\n",
      "       'Sales Organization', 'Man.invoice mainten.', 'Incoterms Version',\n",
      "       'ABC classification', 'Sales district', 'Created On', 'Price group',\n",
      "       'Product attribute 10', 'Del. indicator for sales area',\n",
      "       'Order block for sales area', 'Delivery block for sales area',\n",
      "       'Max.Part.Deliveries', 'Sales block for sales area', 'Sales Group',\n",
      "       'Product attribute 4', 'Customer group', 'Sales Office'],\n",
      "      dtype='object')\n"
     ]
    }
   ],
   "source": [
    "print(knvv_ecc.columns)\n",
    "print(knvv_mdg.columns)"
   ]
  },
  {
   "cell_type": "code",
   "execution_count": null,
   "id": "51f266db",
   "metadata": {},
   "outputs": [],
   "source": [
    "knvv_ecc['key'] = knvv_ecc.apply(\n",
    "    lambda row: \n",
    "        str(row['Customer'])\n",
    "        + str(row['Sales Organization'])\n",
    "        + str(row['Distribution Channel'])\n",
    "        + str(row['Division']),\n",
    "        # + str(row['Sequence Number']), \n",
    "        axis=1\n",
    ")"
   ]
  },
  {
   "cell_type": "code",
   "execution_count": null,
   "id": "cfe9b627",
   "metadata": {},
   "outputs": [],
   "source": [
    "knvv_mdg['key'] = knvv_mdg.apply(\n",
    "    lambda row: \n",
    "        str(row['Customer']),\n",
    "        # + str(row['Company Code']),\n",
    "        # + str(row['Distribution Channel'])\n",
    "        # + str(row['Division']),\n",
    "        # + str(row['Sequence Number']),\n",
    "    axis=1\n",
    ")"
   ]
  },
  {
   "cell_type": "code",
   "execution_count": null,
   "id": "8a794a7a",
   "metadata": {},
   "outputs": [
    {
     "name": "stdout",
     "output_type": "stream",
     "text": [
      "2417\n",
      "2403\n"
     ]
    }
   ],
   "source": [
    "print(len(knvv_ecc))\n",
    "print(len(knvv_mdg))"
   ]
  },
  {
   "cell_type": "code",
   "execution_count": null,
   "id": "9869eb45",
   "metadata": {},
   "outputs": [],
   "source": [
    "knvv_ecc.set_index('key', inplace=True)\n",
    "knvv_mdg.set_index('key', inplace=True)"
   ]
  },
  {
   "cell_type": "code",
   "execution_count": null,
   "id": "a668bf22",
   "metadata": {},
   "outputs": [],
   "source": [
    "a_knvv_mdg, a_knvv_ecc = knvv_mdg.align(knvv_ecc, join='outer')\n",
    "# a_knvv_mdg, a_knvv_ecc = knvv_mdg, knvv_ecc\n"
   ]
  },
  {
   "cell_type": "code",
   "execution_count": null,
   "id": "1a547107",
   "metadata": {},
   "outputs": [
    {
     "name": "stdout",
     "output_type": "stream",
     "text": [
      "19727\n",
      "19727\n"
     ]
    }
   ],
   "source": [
    "print(len(a_knvv_ecc))\n",
    "print(len(a_knvv_mdg))"
   ]
  },
  {
   "cell_type": "code",
   "execution_count": null,
   "id": "b78f2a3d",
   "metadata": {},
   "outputs": [],
   "source": [
    "diffs = a_knvv_mdg.compare(\n",
    "    a_knvv_ecc,\n",
    "    keep_equal=True,      # show all cells\n",
    "    # keep_equal=False,      # only show changed cells\n",
    "    keep_shape=False,       # retain full shape if you want blanks where no change\n",
    "    result_names=('MDG','ECC')\n",
    ")"
   ]
  },
  {
   "cell_type": "code",
   "execution_count": 87,
   "id": "8fc73679",
   "metadata": {},
   "outputs": [],
   "source": [
    "diffs.columns = [f\"{col[0]} ({col[1]})\" for col in diffs.columns]"
   ]
  },
  {
   "cell_type": "code",
   "execution_count": null,
   "id": "928e6307",
   "metadata": {},
   "outputs": [],
   "source": [
    "diffs.to_excel('../sync/c-after-sync/knvv_allData_changes.xlsx')\n",
    "# diffs.to_excel('../sync/c-after-sync/knvv_changes.xlsx')"
   ]
  },
  {
   "cell_type": "code",
   "execution_count": null,
   "id": "d3f34c72",
   "metadata": {},
   "outputs": [],
   "source": []
  },
  {
   "cell_type": "code",
   "execution_count": null,
   "id": "9c72d22c",
   "metadata": {},
   "outputs": [],
   "source": []
  },
  {
   "cell_type": "code",
   "execution_count": null,
   "id": "c5b1ece3",
   "metadata": {},
   "outputs": [],
   "source": []
  },
  {
   "cell_type": "code",
   "execution_count": 73,
   "id": "9baf627d",
   "metadata": {},
   "outputs": [],
   "source": [
    "# Ignore"
   ]
  },
  {
   "cell_type": "code",
   "execution_count": null,
   "id": "ab447114",
   "metadata": {},
   "outputs": [],
   "source": [
    "f = pd.read_excel('../knvvData_changes.xlsx', sheet_name='Sheet3')"
   ]
  },
  {
   "cell_type": "code",
   "execution_count": 148,
   "id": "228537de",
   "metadata": {},
   "outputs": [
    {
     "data": {
      "text/html": [
       "<div>\n",
       "<style scoped>\n",
       "    .dataframe tbody tr th:only-of-type {\n",
       "        vertical-align: middle;\n",
       "    }\n",
       "\n",
       "    .dataframe tbody tr th {\n",
       "        vertical-align: top;\n",
       "    }\n",
       "\n",
       "    .dataframe thead th {\n",
       "        text-align: right;\n",
       "    }\n",
       "</style>\n",
       "<table border=\"1\" class=\"dataframe\">\n",
       "  <thead>\n",
       "    <tr style=\"text-align: right;\">\n",
       "      <th></th>\n",
       "      <th>Name</th>\n",
       "      <th>email</th>\n",
       "    </tr>\n",
       "  </thead>\n",
       "  <tbody>\n",
       "    <tr>\n",
       "      <th>0</th>\n",
       "      <td>3M Electro &amp; Communication</td>\n",
       "      <td>pbhutani@mmm.com</td>\n",
       "    </tr>\n",
       "    <tr>\n",
       "      <th>1</th>\n",
       "      <td>3M Electro &amp; Communication</td>\n",
       "      <td>srjanak@mmm.com</td>\n",
       "    </tr>\n",
       "    <tr>\n",
       "      <th>2</th>\n",
       "      <td>A  P ELECTRICALS AND ENGINEERS</td>\n",
       "      <td>SVLNRAO@APEEONLINE.COM</td>\n",
       "    </tr>\n",
       "    <tr>\n",
       "      <th>3</th>\n",
       "      <td>A  P ELECTRICALS AND ENGINEERS</td>\n",
       "      <td>VIJAY@APEEONLINE.COM</td>\n",
       "    </tr>\n",
       "    <tr>\n",
       "      <th>4</th>\n",
       "      <td>AAALAC INTERNATIONAL</td>\n",
       "      <td>msprouse@aaalac.org</td>\n",
       "    </tr>\n",
       "  </tbody>\n",
       "</table>\n",
       "</div>"
      ],
      "text/plain": [
       "                             Name                   email\n",
       "0      3M Electro & Communication        pbhutani@mmm.com\n",
       "1      3M Electro & Communication         srjanak@mmm.com\n",
       "2  A  P ELECTRICALS AND ENGINEERS  SVLNRAO@APEEONLINE.COM\n",
       "3  A  P ELECTRICALS AND ENGINEERS    VIJAY@APEEONLINE.COM\n",
       "4            AAALAC INTERNATIONAL     msprouse@aaalac.org"
      ]
     },
     "execution_count": 148,
     "metadata": {},
     "output_type": "execute_result"
    }
   ],
   "source": [
    "f.head()"
   ]
  },
  {
   "cell_type": "code",
   "execution_count": 153,
   "id": "141e45b7",
   "metadata": {},
   "outputs": [],
   "source": [
    "def func(df):\n",
    "    n = df['Name'].split()\n",
    "    \n",
    "    for i in n:\n",
    "        if i.lower() in df['email'].lower():\n",
    "            return True\n",
    "    return False"
   ]
  },
  {
   "cell_type": "code",
   "execution_count": 154,
   "id": "4f86de69",
   "metadata": {},
   "outputs": [],
   "source": [
    "f['new'] = f.apply(lambda row: func(row), axis=1)"
   ]
  },
  {
   "cell_type": "code",
   "execution_count": 155,
   "id": "0e0c12b6",
   "metadata": {},
   "outputs": [
    {
     "data": {
      "text/html": [
       "<div>\n",
       "<style scoped>\n",
       "    .dataframe tbody tr th:only-of-type {\n",
       "        vertical-align: middle;\n",
       "    }\n",
       "\n",
       "    .dataframe tbody tr th {\n",
       "        vertical-align: top;\n",
       "    }\n",
       "\n",
       "    .dataframe thead th {\n",
       "        text-align: right;\n",
       "    }\n",
       "</style>\n",
       "<table border=\"1\" class=\"dataframe\">\n",
       "  <thead>\n",
       "    <tr style=\"text-align: right;\">\n",
       "      <th></th>\n",
       "      <th>Name</th>\n",
       "      <th>email</th>\n",
       "      <th>new</th>\n",
       "    </tr>\n",
       "  </thead>\n",
       "  <tbody>\n",
       "    <tr>\n",
       "      <th>0</th>\n",
       "      <td>3M Electro &amp; Communication</td>\n",
       "      <td>pbhutani@mmm.com</td>\n",
       "      <td>False</td>\n",
       "    </tr>\n",
       "    <tr>\n",
       "      <th>1</th>\n",
       "      <td>3M Electro &amp; Communication</td>\n",
       "      <td>srjanak@mmm.com</td>\n",
       "      <td>False</td>\n",
       "    </tr>\n",
       "    <tr>\n",
       "      <th>2</th>\n",
       "      <td>A  P ELECTRICALS AND ENGINEERS</td>\n",
       "      <td>SVLNRAO@APEEONLINE.COM</td>\n",
       "      <td>True</td>\n",
       "    </tr>\n",
       "    <tr>\n",
       "      <th>3</th>\n",
       "      <td>A  P ELECTRICALS AND ENGINEERS</td>\n",
       "      <td>VIJAY@APEEONLINE.COM</td>\n",
       "      <td>True</td>\n",
       "    </tr>\n",
       "    <tr>\n",
       "      <th>4</th>\n",
       "      <td>AAALAC INTERNATIONAL</td>\n",
       "      <td>msprouse@aaalac.org</td>\n",
       "      <td>True</td>\n",
       "    </tr>\n",
       "    <tr>\n",
       "      <th>...</th>\n",
       "      <td>...</td>\n",
       "      <td>...</td>\n",
       "      <td>...</td>\n",
       "    </tr>\n",
       "    <tr>\n",
       "      <th>2828</th>\n",
       "      <td>ZELLE BIOTECHNOLOGY PVT LTD</td>\n",
       "      <td>accounts@zellebiotech.com</td>\n",
       "      <td>True</td>\n",
       "    </tr>\n",
       "    <tr>\n",
       "      <th>2829</th>\n",
       "      <td>ZELLE BIOTECHNOLOGY PVT LTD</td>\n",
       "      <td>orders@zellebiotech.com</td>\n",
       "      <td>True</td>\n",
       "    </tr>\n",
       "    <tr>\n",
       "      <th>2830</th>\n",
       "      <td>ZELLE BIOTECHNOLOGY PVT LTD</td>\n",
       "      <td>service@zellebiotech.com</td>\n",
       "      <td>True</td>\n",
       "    </tr>\n",
       "    <tr>\n",
       "      <th>2831</th>\n",
       "      <td>ZoomInfo Technologies LLC</td>\n",
       "      <td>ar@zoominfo.com</td>\n",
       "      <td>True</td>\n",
       "    </tr>\n",
       "    <tr>\n",
       "      <th>2832</th>\n",
       "      <td>ZoomInfo Technologies LLC</td>\n",
       "      <td>ar.team3@zoominfo.com</td>\n",
       "      <td>True</td>\n",
       "    </tr>\n",
       "  </tbody>\n",
       "</table>\n",
       "<p>2833 rows × 3 columns</p>\n",
       "</div>"
      ],
      "text/plain": [
       "                                Name                      email    new\n",
       "0         3M Electro & Communication           pbhutani@mmm.com  False\n",
       "1         3M Electro & Communication            srjanak@mmm.com  False\n",
       "2     A  P ELECTRICALS AND ENGINEERS     SVLNRAO@APEEONLINE.COM   True\n",
       "3     A  P ELECTRICALS AND ENGINEERS       VIJAY@APEEONLINE.COM   True\n",
       "4               AAALAC INTERNATIONAL        msprouse@aaalac.org   True\n",
       "...                              ...                        ...    ...\n",
       "2828     ZELLE BIOTECHNOLOGY PVT LTD  accounts@zellebiotech.com   True\n",
       "2829     ZELLE BIOTECHNOLOGY PVT LTD    orders@zellebiotech.com   True\n",
       "2830     ZELLE BIOTECHNOLOGY PVT LTD   service@zellebiotech.com   True\n",
       "2831       ZoomInfo Technologies LLC            ar@zoominfo.com   True\n",
       "2832       ZoomInfo Technologies LLC      ar.team3@zoominfo.com   True\n",
       "\n",
       "[2833 rows x 3 columns]"
      ]
     },
     "execution_count": 155,
     "metadata": {},
     "output_type": "execute_result"
    }
   ],
   "source": [
    "f"
   ]
  },
  {
   "cell_type": "code",
   "execution_count": 156,
   "id": "f39d836f",
   "metadata": {},
   "outputs": [],
   "source": [
    "f.to_csv('email.csv')"
   ]
  },
  {
   "cell_type": "code",
   "execution_count": null,
   "id": "3bb8dea5",
   "metadata": {},
   "outputs": [
    {
     "data": {
      "text/plain": [
       "Index(['Address Number', 'from', 'Address Version', 'To', 'Title', 'Name',\n",
       "       'Name 2', 'Name 3', 'Name 4', 'Converted name (with form of address)',\n",
       "       'c/o name', 'City', 'District', 'City Code', 'District.1',\n",
       "       'City (Diff. from Postal City)', 'City Code.1', 'Test stat./City file',\n",
       "       'Reg. Struct. Grp.', 'Postal Code', 'PO Box Postal Code',\n",
       "       'Company Postal Code', 'Postl Code Extension', 'Postl Code Extension.1',\n",
       "       'Postl Code Extension.2', 'PO Box', 'Undeliverable', 'PO Box w/o No.',\n",
       "       'PO Box City', 'City Code.2', 'PO Box Region', 'PO box country',\n",
       "       'Delivery District', 'Transportation zone', 'Street', 'Undeliverable.1',\n",
       "       'Street Code', 'Street Abbreviation', 'House Number', 'Supplement',\n",
       "       'House Number Range', 'Street 2', 'Street 3', 'Street 4', 'Street 5',\n",
       "       'Building Code', 'Floor', 'Room Number', 'Country Key', 'Language Key',\n",
       "       'Region', 'Address group', 'Flag: There are more address group assig',\n",
       "       'personal address', 'Search Term 1', 'Search Term 2',\n",
       "       'Sort Phonetically', 'Comm. Method', 'Telephone', 'Extension', 'Fax',\n",
       "       'Extension.1', 'Telephone...', 'Fax...', 'Teletex', 'Telex',\n",
       "       'E-Mail Maintained', 'R/Mail', 'X.400', 'RFC', 'Printer', 'SSF',\n",
       "       'URI/FTP', 'Pager', 'Address Source', 'Company name', 'City.1',\n",
       "       'Street.1', 'Data line', 'Telebox', 'Time Zone', 'Tax Jurisdiction',\n",
       "       'Address ID', 'Creation language', 'Address UUID',\n",
       "       'UUID generated later', 'Address ID Category', 'Error Status',\n",
       "       'PO Box Lobby', 'Type of Delivry Service', 'Number of Delivery Service',\n",
       "       'County code', 'County', 'Township code', 'Township', 'County.1',\n",
       "       'Township.1', 'Business Purpose Completed Flag', 'Address notes'],\n",
       "      dtype='object')"
      ]
     },
     "execution_count": 159,
     "metadata": {},
     "output_type": "execute_result"
    }
   ],
   "source": [
    "knvvcc.columns"
   ]
  },
  {
   "cell_type": "code",
   "execution_count": null,
   "id": "4201b624",
   "metadata": {},
   "outputs": [
    {
     "data": {
      "text/plain": [
       "False    2944\n",
       "True       78\n",
       "Name: count, dtype: int64"
      ]
     },
     "execution_count": 172,
     "metadata": {},
     "output_type": "execute_result"
    }
   ],
   "source": [
    "knvv.apply(lambda row: '&' in str(row['Street']), axis=1).value_counts()"
   ]
  },
  {
   "cell_type": "code",
   "execution_count": null,
   "id": "067f91c4",
   "metadata": {},
   "outputs": [],
   "source": []
  },
  {
   "cell_type": "code",
   "execution_count": null,
   "id": "74a8f3dd",
   "metadata": {},
   "outputs": [],
   "source": []
  }
 ],
 "metadata": {
  "kernelspec": {
   "display_name": "cleansing",
   "language": "python",
   "name": "python3"
  },
  "language_info": {
   "codemirror_mode": {
    "name": "ipython",
    "version": 3
   },
   "file_extension": ".py",
   "mimetype": "text/x-python",
   "name": "python",
   "nbconvert_exporter": "python",
   "pygments_lexer": "ipython3",
   "version": "3.13.2"
  }
 },
 "nbformat": 4,
 "nbformat_minor": 5
}
