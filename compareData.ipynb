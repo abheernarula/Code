{
 "cells": [
  {
   "cell_type": "code",
   "execution_count": 1,
   "id": "5d9c6921",
   "metadata": {},
   "outputs": [],
   "source": [
    "import pandas as pd"
   ]
  },
  {
   "cell_type": "code",
   "execution_count": 107,
   "id": "ae3c29a7",
   "metadata": {},
   "outputs": [],
   "source": [
    "jcust_b = pd.read_excel('../sync/prod/before/jcust.xlsx', dtype=str)\n",
    "jcust_a = pd.read_excel('../sync/prod/after/jcust.xlsx', dtype=str)"
   ]
  },
  {
   "cell_type": "code",
   "execution_count": 108,
   "id": "d45b7726",
   "metadata": {},
   "outputs": [
    {
     "name": "stdout",
     "output_type": "stream",
     "text": [
      "16\n",
      "16\n"
     ]
    }
   ],
   "source": [
    "print(len(jcust_a.columns))\n",
    "print(len(jcust_b.columns))"
   ]
  },
  {
   "cell_type": "code",
   "execution_count": null,
   "id": "6bdb544d",
   "metadata": {},
   "outputs": [],
   "source": [
    "cols_b = set(jcust_b.columns.str.lower())\n",
    "cols_a = set(jcust_a.columns.str.lower())"
   ]
  },
  {
   "cell_type": "code",
   "execution_count": null,
   "id": "f3af0234",
   "metadata": {},
   "outputs": [],
   "source": [
    "only_in_b = sorted(cols_b - cols_a)\n",
    "only_in_a = sorted(cols_a - cols_b)"
   ]
  },
  {
   "cell_type": "code",
   "execution_count": null,
   "id": "92a07075",
   "metadata": {},
   "outputs": [],
   "source": [
    "df_only_b = pd.DataFrame({'In MDG not in ECC': only_in_b})\n",
    "df_only_a = pd.DataFrame({'In ECC not in MDG': only_in_a})"
   ]
  },
  {
   "cell_type": "code",
   "execution_count": null,
   "id": "e825d9f2",
   "metadata": {},
   "outputs": [
    {
     "name": "stdout",
     "output_type": "stream",
     "text": [
      "Empty DataFrame\n",
      "Columns: [In ECC not in MDG]\n",
      "Index: []\n",
      "Empty DataFrame\n",
      "Columns: [In MDG not in ECC]\n",
      "Index: []\n"
     ]
    }
   ],
   "source": [
    "print(df_only_a)\n",
    "print(df_only_b)"
   ]
  },
  {
   "cell_type": "code",
   "execution_count": null,
   "id": "58d21bd5",
   "metadata": {},
   "outputs": [],
   "source": [
    "with pd.ExcelWriter('../sync/v-after-sync/column_mismatch_jcust.xlsx', engine='openpyxl') as writer:\n",
    "    df_only_b.to_excel(writer, sheet_name='In MDG', index=False)\n",
    "    df_only_a.to_excel(writer, sheet_name='In ECC', index=False)"
   ]
  },
  {
   "cell_type": "code",
   "execution_count": null,
   "id": "e8f5c6a6",
   "metadata": {},
   "outputs": [],
   "source": [
    "n_cols_a = list(set(jcust_a.columns) - (set(jcust_a.columns) - set(jcust_b.columns)))\n",
    "n_cols_b = list(set(jcust_b.columns) - (set(jcust_b.columns) - set(jcust_a.columns)))"
   ]
  },
  {
   "cell_type": "code",
   "execution_count": null,
   "id": "b3d3d195",
   "metadata": {},
   "outputs": [],
   "source": [
    "n_cols_a.append('Supplier')\n",
    "n_cols_b.append('Vendor')"
   ]
  },
  {
   "cell_type": "code",
   "execution_count": null,
   "id": "38bab1f6",
   "metadata": {},
   "outputs": [],
   "source": [
    "jcust_a = jcust_a[n_cols_a]\n",
    "jcust_b = jcust_b[n_cols_b]"
   ]
  },
  {
   "cell_type": "code",
   "execution_count": 109,
   "id": "5ee8ca3c",
   "metadata": {},
   "outputs": [
    {
     "name": "stdout",
     "output_type": "stream",
     "text": [
      "Index(['KUNNR', 'J_1IEXCD', 'J_1IEXRN', 'J_1IEXRG', 'J_1IEXDI', 'J_1IEXCO',\n",
      "       'J_1ICSTNO', 'J_1ILSTNO', 'J_1IPANNO', 'J_1IEXCICU', 'AEDAT', 'USNAM',\n",
      "       'J_1ISERN', 'J_1IPANREF', 'GST_TDS', 'AADHAAR_NO'],\n",
      "      dtype='object')\n",
      "Index(['KUNNR', 'J_1IEXCD', 'J_1IEXRN', 'J_1IEXRG', 'J_1IEXDI', 'J_1IEXCO',\n",
      "       'J_1ICSTNO', 'J_1ILSTNO', 'J_1IPANNO', 'J_1IEXCICU', 'AEDAT', 'USNAM',\n",
      "       'J_1ISERN', 'J_1IPANREF', 'GST_TDS', 'AADHAAR_NO'],\n",
      "      dtype='object')\n"
     ]
    }
   ],
   "source": [
    "print(jcust_a.columns)\n",
    "print(jcust_b.columns)"
   ]
  },
  {
   "cell_type": "code",
   "execution_count": 110,
   "id": "51f266db",
   "metadata": {},
   "outputs": [],
   "source": [
    "jcust_a['key'] = jcust_a.apply(\n",
    "    lambda row: \n",
    "        str(row['KUNNR']),\n",
    "        # + str(row['PERSNUMBER']),\n",
    "        # + str(row['VTWEG'])\n",
    "        # + str(row['SPART']), \n",
    "        axis=1\n",
    ")"
   ]
  },
  {
   "cell_type": "code",
   "execution_count": 111,
   "id": "cfe9b627",
   "metadata": {},
   "outputs": [],
   "source": [
    "jcust_b['key'] = jcust_b.apply(\n",
    "    lambda row: \n",
    "        str(row['KUNNR']),\n",
    "        # + str(row['PERSNUMBER']),\n",
    "        # + str(row['VTWEG'])\n",
    "        # + str(row['SPART']), \n",
    "        axis=1\n",
    ")"
   ]
  },
  {
   "cell_type": "code",
   "execution_count": 112,
   "id": "8a794a7a",
   "metadata": {},
   "outputs": [
    {
     "name": "stdout",
     "output_type": "stream",
     "text": [
      "1593\n",
      "1593\n"
     ]
    }
   ],
   "source": [
    "print(len(jcust_a))\n",
    "print(len(jcust_b))"
   ]
  },
  {
   "cell_type": "code",
   "execution_count": 113,
   "id": "9869eb45",
   "metadata": {},
   "outputs": [],
   "source": [
    "jcust_a.set_index('key', inplace=True)\n",
    "jcust_b.set_index('key', inplace=True)"
   ]
  },
  {
   "cell_type": "code",
   "execution_count": 114,
   "id": "a668bf22",
   "metadata": {},
   "outputs": [],
   "source": [
    "a_jcust_b, a_jcust_a = jcust_b.align(jcust_a, join='left')\n",
    "# a_jcust_b, a_jcust_a = jcust_b, jcust_a\n"
   ]
  },
  {
   "cell_type": "code",
   "execution_count": 115,
   "id": "1a547107",
   "metadata": {},
   "outputs": [
    {
     "name": "stdout",
     "output_type": "stream",
     "text": [
      "1593\n",
      "1593\n"
     ]
    }
   ],
   "source": [
    "print(len(a_jcust_a))\n",
    "print(len(a_jcust_b))"
   ]
  },
  {
   "cell_type": "code",
   "execution_count": 116,
   "id": "b78f2a3d",
   "metadata": {},
   "outputs": [],
   "source": [
    "diffs = a_jcust_b.compare(\n",
    "    a_jcust_a,\n",
    "    keep_equal=True,      # show all cells\n",
    "    # keep_equal=False,      # only show changed cells\n",
    "    keep_shape=True,       # retain full shape if you want blanks where no change\n",
    "    result_names=('Before','After')\n",
    ")"
   ]
  },
  {
   "cell_type": "code",
   "execution_count": 117,
   "id": "8fc73679",
   "metadata": {},
   "outputs": [],
   "source": [
    "diffs.columns = [f\"{col[0]} ({col[1]})\" for col in diffs.columns]"
   ]
  },
  {
   "cell_type": "code",
   "execution_count": 118,
   "id": "928e6307",
   "metadata": {},
   "outputs": [],
   "source": [
    "diffs.to_excel('../sync/prod/jcust_allData_changes.xlsx')\n",
    "# diffs.to_excel('../sync/prod/jcust_changes.xlsx')"
   ]
  },
  {
   "cell_type": "code",
   "execution_count": null,
   "id": "d3f34c72",
   "metadata": {},
   "outputs": [],
   "source": []
  },
  {
   "cell_type": "code",
   "execution_count": null,
   "id": "9c72d22c",
   "metadata": {},
   "outputs": [],
   "source": []
  },
  {
   "cell_type": "code",
   "execution_count": null,
   "id": "c5b1ece3",
   "metadata": {},
   "outputs": [],
   "source": []
  },
  {
   "cell_type": "code",
   "execution_count": 73,
   "id": "9baf627d",
   "metadata": {},
   "outputs": [],
   "source": [
    "# Ignore"
   ]
  },
  {
   "cell_type": "code",
   "execution_count": null,
   "id": "ab447114",
   "metadata": {},
   "outputs": [],
   "source": [
    "f = pd.read_excel('../j1Data_changes.xlsx', sheet_name='Sheet3')"
   ]
  },
  {
   "cell_type": "code",
   "execution_count": 148,
   "id": "228537de",
   "metadata": {},
   "outputs": [
    {
     "data": {
      "text/html": [
       "<div>\n",
       "<style scoped>\n",
       "    .dataframe tbody tr th:only-of-type {\n",
       "        vertical-align: middle;\n",
       "    }\n",
       "\n",
       "    .dataframe tbody tr th {\n",
       "        vertical-align: top;\n",
       "    }\n",
       "\n",
       "    .dataframe thead th {\n",
       "        text-align: right;\n",
       "    }\n",
       "</style>\n",
       "<table border=\"1\" class=\"dataframe\">\n",
       "  <thead>\n",
       "    <tr style=\"text-align: right;\">\n",
       "      <th></th>\n",
       "      <th>Name</th>\n",
       "      <th>email</th>\n",
       "    </tr>\n",
       "  </thead>\n",
       "  <tbody>\n",
       "    <tr>\n",
       "      <th>0</th>\n",
       "      <td>3M Electro &amp; Communication</td>\n",
       "      <td>pbhutani@mmm.com</td>\n",
       "    </tr>\n",
       "    <tr>\n",
       "      <th>1</th>\n",
       "      <td>3M Electro &amp; Communication</td>\n",
       "      <td>srjanak@mmm.com</td>\n",
       "    </tr>\n",
       "    <tr>\n",
       "      <th>2</th>\n",
       "      <td>A  P ELECTRICALS AND ENGINEERS</td>\n",
       "      <td>SVLNRAO@APEEONLINE.COM</td>\n",
       "    </tr>\n",
       "    <tr>\n",
       "      <th>3</th>\n",
       "      <td>A  P ELECTRICALS AND ENGINEERS</td>\n",
       "      <td>VIJAY@APEEONLINE.COM</td>\n",
       "    </tr>\n",
       "    <tr>\n",
       "      <th>4</th>\n",
       "      <td>AAALAC INTERNATIONAL</td>\n",
       "      <td>msprouse@aaalac.org</td>\n",
       "    </tr>\n",
       "  </tbody>\n",
       "</table>\n",
       "</div>"
      ],
      "text/plain": [
       "                             Name                   email\n",
       "0      3M Electro & Communication        pbhutani@mmm.com\n",
       "1      3M Electro & Communication         srjanak@mmm.com\n",
       "2  A  P ELECTRICALS AND ENGINEERS  SVLNRAO@APEEONLINE.COM\n",
       "3  A  P ELECTRICALS AND ENGINEERS    VIJAY@APEEONLINE.COM\n",
       "4            AAALAC INTERNATIONAL     msprouse@aaalac.org"
      ]
     },
     "execution_count": 148,
     "metadata": {},
     "output_type": "execute_result"
    }
   ],
   "source": [
    "f.head()"
   ]
  },
  {
   "cell_type": "code",
   "execution_count": 153,
   "id": "141e45b7",
   "metadata": {},
   "outputs": [],
   "source": [
    "def func(df):\n",
    "    n = df['Name'].split()\n",
    "    \n",
    "    for i in n:\n",
    "        if i.lower() in df['email'].lower():\n",
    "            return True\n",
    "    return False"
   ]
  },
  {
   "cell_type": "code",
   "execution_count": 154,
   "id": "4f86de69",
   "metadata": {},
   "outputs": [],
   "source": [
    "f['new'] = f.apply(lambda row: func(row), axis=1)"
   ]
  },
  {
   "cell_type": "code",
   "execution_count": 155,
   "id": "0e0c12b6",
   "metadata": {},
   "outputs": [
    {
     "data": {
      "text/html": [
       "<div>\n",
       "<style scoped>\n",
       "    .dataframe tbody tr th:only-of-type {\n",
       "        vertical-align: middle;\n",
       "    }\n",
       "\n",
       "    .dataframe tbody tr th {\n",
       "        vertical-align: top;\n",
       "    }\n",
       "\n",
       "    .dataframe thead th {\n",
       "        text-align: right;\n",
       "    }\n",
       "</style>\n",
       "<table border=\"1\" class=\"dataframe\">\n",
       "  <thead>\n",
       "    <tr style=\"text-align: right;\">\n",
       "      <th></th>\n",
       "      <th>Name</th>\n",
       "      <th>email</th>\n",
       "      <th>new</th>\n",
       "    </tr>\n",
       "  </thead>\n",
       "  <tbody>\n",
       "    <tr>\n",
       "      <th>0</th>\n",
       "      <td>3M Electro &amp; Communication</td>\n",
       "      <td>pbhutani@mmm.com</td>\n",
       "      <td>False</td>\n",
       "    </tr>\n",
       "    <tr>\n",
       "      <th>1</th>\n",
       "      <td>3M Electro &amp; Communication</td>\n",
       "      <td>srjanak@mmm.com</td>\n",
       "      <td>False</td>\n",
       "    </tr>\n",
       "    <tr>\n",
       "      <th>2</th>\n",
       "      <td>A  P ELECTRICALS AND ENGINEERS</td>\n",
       "      <td>SVLNRAO@APEEONLINE.COM</td>\n",
       "      <td>True</td>\n",
       "    </tr>\n",
       "    <tr>\n",
       "      <th>3</th>\n",
       "      <td>A  P ELECTRICALS AND ENGINEERS</td>\n",
       "      <td>VIJAY@APEEONLINE.COM</td>\n",
       "      <td>True</td>\n",
       "    </tr>\n",
       "    <tr>\n",
       "      <th>4</th>\n",
       "      <td>AAALAC INTERNATIONAL</td>\n",
       "      <td>msprouse@aaalac.org</td>\n",
       "      <td>True</td>\n",
       "    </tr>\n",
       "    <tr>\n",
       "      <th>...</th>\n",
       "      <td>...</td>\n",
       "      <td>...</td>\n",
       "      <td>...</td>\n",
       "    </tr>\n",
       "    <tr>\n",
       "      <th>2828</th>\n",
       "      <td>ZELLE BIOTECHNOLOGY PVT LTD</td>\n",
       "      <td>accounts@zellebiotech.com</td>\n",
       "      <td>True</td>\n",
       "    </tr>\n",
       "    <tr>\n",
       "      <th>2829</th>\n",
       "      <td>ZELLE BIOTECHNOLOGY PVT LTD</td>\n",
       "      <td>orders@zellebiotech.com</td>\n",
       "      <td>True</td>\n",
       "    </tr>\n",
       "    <tr>\n",
       "      <th>2830</th>\n",
       "      <td>ZELLE BIOTECHNOLOGY PVT LTD</td>\n",
       "      <td>service@zellebiotech.com</td>\n",
       "      <td>True</td>\n",
       "    </tr>\n",
       "    <tr>\n",
       "      <th>2831</th>\n",
       "      <td>ZoomInfo Technologies LLC</td>\n",
       "      <td>ar@zoominfo.com</td>\n",
       "      <td>True</td>\n",
       "    </tr>\n",
       "    <tr>\n",
       "      <th>2832</th>\n",
       "      <td>ZoomInfo Technologies LLC</td>\n",
       "      <td>ar.team3@zoominfo.com</td>\n",
       "      <td>True</td>\n",
       "    </tr>\n",
       "  </tbody>\n",
       "</table>\n",
       "<p>2833 rows × 3 columns</p>\n",
       "</div>"
      ],
      "text/plain": [
       "                                Name                      email    new\n",
       "0         3M Electro & Communication           pbhutani@mmm.com  False\n",
       "1         3M Electro & Communication            srjanak@mmm.com  False\n",
       "2     A  P ELECTRICALS AND ENGINEERS     SVLNRAO@APEEONLINE.COM   True\n",
       "3     A  P ELECTRICALS AND ENGINEERS       VIJAY@APEEONLINE.COM   True\n",
       "4               AAALAC INTERNATIONAL        msprouse@aaalac.org   True\n",
       "...                              ...                        ...    ...\n",
       "2828     ZELLE BIOTECHNOLOGY PVT LTD  accounts@zellebiotech.com   True\n",
       "2829     ZELLE BIOTECHNOLOGY PVT LTD    orders@zellebiotech.com   True\n",
       "2830     ZELLE BIOTECHNOLOGY PVT LTD   service@zellebiotech.com   True\n",
       "2831       ZoomInfo Technologies LLC            ar@zoominfo.com   True\n",
       "2832       ZoomInfo Technologies LLC      ar.team3@zoominfo.com   True\n",
       "\n",
       "[2833 rows x 3 columns]"
      ]
     },
     "execution_count": 155,
     "metadata": {},
     "output_type": "execute_result"
    }
   ],
   "source": [
    "f"
   ]
  },
  {
   "cell_type": "code",
   "execution_count": 156,
   "id": "f39d836f",
   "metadata": {},
   "outputs": [],
   "source": [
    "f.to_csv('email.csv')"
   ]
  },
  {
   "cell_type": "code",
   "execution_count": null,
   "id": "3bb8dea5",
   "metadata": {},
   "outputs": [
    {
     "data": {
      "text/plain": [
       "Index(['Address Number', 'from', 'Address Version', 'To', 'Title', 'Name',\n",
       "       'Name 2', 'Name 3', 'Name 4', 'Converted name (with form of address)',\n",
       "       'c/o name', 'City', 'District', 'City Code', 'District.1',\n",
       "       'City (Diff. from Postal City)', 'City Code.1', 'Test stat./City file',\n",
       "       'Reg. Struct. Grp.', 'Postal Code', 'PO Box Postal Code',\n",
       "       'Company Postal Code', 'Postl Code Extension', 'Postl Code Extension.1',\n",
       "       'Postl Code Extension.2', 'PO Box', 'Undeliverable', 'PO Box w/o No.',\n",
       "       'PO Box City', 'City Code.2', 'PO Box Region', 'PO box country',\n",
       "       'Delivery District', 'Transportation zone', 'Street', 'Undeliverable.1',\n",
       "       'Street Code', 'Street Abbreviation', 'House Number', 'Supplement',\n",
       "       'House Number Range', 'Street 2', 'Street 3', 'Street 4', 'Street 5',\n",
       "       'Building Code', 'Floor', 'Room Number', 'Country Key', 'Language Key',\n",
       "       'Region', 'Address group', 'Flag: There are more address group assig',\n",
       "       'personal address', 'Search Term 1', 'Search Term 2',\n",
       "       'Sort Phonetically', 'Comm. Method', 'Telephone', 'Extension', 'Fax',\n",
       "       'Extension.1', 'Telephone...', 'Fax...', 'Teletex', 'Telex',\n",
       "       'E-Mail Maintained', 'R/Mail', 'X.400', 'RFC', 'Printer', 'SSF',\n",
       "       'URI/FTP', 'Pager', 'Address Source', 'Company name', 'City.1',\n",
       "       'Street.1', 'Data line', 'Telebox', 'Time Zone', 'Tax Jurisdiction',\n",
       "       'Address ID', 'Creation language', 'Address UUID',\n",
       "       'UUID generated later', 'Address ID Category', 'Error Status',\n",
       "       'PO Box Lobby', 'Type of Delivry Service', 'Number of Delivery Service',\n",
       "       'County code', 'County', 'Township code', 'Township', 'County.1',\n",
       "       'Township.1', 'Business Purpose Completed Flag', 'Address notes'],\n",
       "      dtype='object')"
      ]
     },
     "execution_count": 159,
     "metadata": {},
     "output_type": "execute_result"
    }
   ],
   "source": [
    "j1cc.columns"
   ]
  },
  {
   "cell_type": "code",
   "execution_count": null,
   "id": "4201b624",
   "metadata": {},
   "outputs": [
    {
     "data": {
      "text/plain": [
       "False    2944\n",
       "True       78\n",
       "Name: count, dtype: int64"
      ]
     },
     "execution_count": 172,
     "metadata": {},
     "output_type": "execute_result"
    }
   ],
   "source": [
    "j1.apply(lambda row: '&' in str(row['Street']), axis=1).value_counts()"
   ]
  },
  {
   "cell_type": "code",
   "execution_count": null,
   "id": "067f91c4",
   "metadata": {},
   "outputs": [],
   "source": []
  },
  {
   "cell_type": "code",
   "execution_count": null,
   "id": "74a8f3dd",
   "metadata": {},
   "outputs": [],
   "source": []
  }
 ],
 "metadata": {
  "kernelspec": {
   "display_name": "Python 3",
   "language": "python",
   "name": "python3"
  },
  "language_info": {
   "codemirror_mode": {
    "name": "ipython",
    "version": 3
   },
   "file_extension": ".py",
   "mimetype": "text/x-python",
   "name": "python",
   "nbconvert_exporter": "python",
   "pygments_lexer": "ipython3",
   "version": "3.10.0"
  }
 },
 "nbformat": 4,
 "nbformat_minor": 5
}
