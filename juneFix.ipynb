{
 "cells": [
  {
   "cell_type": "code",
   "execution_count": 1,
   "id": "945cb57d",
   "metadata": {},
   "outputs": [],
   "source": [
    "import pandas as pd"
   ]
  },
  {
   "cell_type": "code",
   "execution_count": 2,
   "id": "8ec70976",
   "metadata": {},
   "outputs": [],
   "source": [
    "import re"
   ]
  },
  {
   "cell_type": "code",
   "execution_count": 3,
   "id": "30112048",
   "metadata": {},
   "outputs": [],
   "source": [
    "import phonenumbers\n",
    "from phonenumbers import (\n",
    "    NumberParseException,\n",
    "    is_possible_number,\n",
    "    number_type,\n",
    "    PhoneNumberType\n",
    ")"
   ]
  },
  {
   "cell_type": "code",
   "execution_count": 4,
   "id": "077bf498",
   "metadata": {},
   "outputs": [],
   "source": [
    "def standardizePhone(phone_str: str, default_region: str):\n",
    "    if pd.isnull(phone_str) or pd.isna(phone_str) or phone_str.strip().lower()=='nan' or phone_str.strip()=='' or phone_str=='0':\n",
    "        return ''\n",
    "    if pd.isnull(default_region) or pd.isna(default_region) or default_region.strip().lower()=='nan' or default_region.strip()=='' or default_region=='0':\n",
    "        return ''\n",
    "    else:\n",
    "        try:\n",
    "            pn = phonenumbers.parse(phone_str, default_region)\n",
    "            if is_possible_number(pn):\n",
    "                t = number_type(pn)\n",
    "                if t == PhoneNumberType.MOBILE:\n",
    "                    std = f\"+{pn.country_code} {pn.national_number}\"\n",
    "                    # tag = \"Mobile\"\n",
    "                elif t in (\n",
    "                    PhoneNumberType.FIXED_LINE,\n",
    "                    PhoneNumberType.FIXED_LINE_OR_MOBILE,\n",
    "                    PhoneNumberType.TOLL_FREE\n",
    "                ):\n",
    "                    # std = format_number(pn, PhoneNumberFormat.INTERNATIONAL)\n",
    "                    std = f\"+{pn.country_code} {pn.national_number}\"\n",
    "                    # tag = \"Landline\"\n",
    "                else:\n",
    "                    # std = format_number(pn, PhoneNumberFormat.INTERNATIONAL)\n",
    "                    std = f\"+{pn.country_code} {pn.national_number}\"\n",
    "                    # tag = \"Other\"\n",
    "\n",
    "                std = std.replace('-', ' ')\n",
    "                std = re.sub(r'\\s+', ' ', std).strip()\n",
    "                return std\n",
    "\n",
    "        except NumberParseException:\n",
    "            pass\n",
    "\n",
    "        digits = re.sub(r\"\\D\", \"\", phone_str).lstrip(\"0\")\n",
    "        default_cc = phonenumbers.country_code_for_region(default_region)\n",
    "        std = f\"+{default_cc} {digits}\"\n",
    "        return std"
   ]
  },
  {
   "cell_type": "code",
   "execution_count": 5,
   "id": "d6a5651f",
   "metadata": {},
   "outputs": [],
   "source": [
    "def standardizeStreet(df, col):\n",
    "    pattern = r\"[^A-Za-z0-9\\s\\.,\\-/']\"\n",
    "    df[col+' std'] = (\n",
    "        df[col]\n",
    "        .str.replace('&', 'and')\n",
    "        .str.replace(pattern, '', regex=True)\n",
    "        .str.replace(r'\\s+', ' ', regex=True)\n",
    "        .str.replace(r'^[^A-Za-z0-9]+|[^A-Za-z0-9]+$', '', regex=True)\n",
    "        .str.strip()\n",
    "    )\n",
    "    return df[col+' std']"
   ]
  },
  {
   "cell_type": "code",
   "execution_count": 21,
   "id": "ccccdae8",
   "metadata": {},
   "outputs": [],
   "source": [
    "# df = pd.read_excel('../5-june-fix/lfa1.xlsx', sheet_name='TELEPHONE 1')\n",
    "df = pd.read_excel('../phone.xlsx', dtype=str)"
   ]
  },
  {
   "cell_type": "code",
   "execution_count": 22,
   "id": "156df40f",
   "metadata": {},
   "outputs": [
    {
     "data": {
      "text/plain": [
       "Index(['Country', 'phone'], dtype='object')"
      ]
     },
     "execution_count": 22,
     "metadata": {},
     "output_type": "execute_result"
    }
   ],
   "source": [
    "df.columns"
   ]
  },
  {
   "cell_type": "code",
   "execution_count": 23,
   "id": "963e26f4",
   "metadata": {},
   "outputs": [
    {
     "data": {
      "text/html": [
       "<div>\n",
       "<style scoped>\n",
       "    .dataframe tbody tr th:only-of-type {\n",
       "        vertical-align: middle;\n",
       "    }\n",
       "\n",
       "    .dataframe tbody tr th {\n",
       "        vertical-align: top;\n",
       "    }\n",
       "\n",
       "    .dataframe thead th {\n",
       "        text-align: right;\n",
       "    }\n",
       "</style>\n",
       "<table border=\"1\" class=\"dataframe\">\n",
       "  <thead>\n",
       "    <tr style=\"text-align: right;\">\n",
       "      <th></th>\n",
       "      <th>Country</th>\n",
       "      <th>phone</th>\n",
       "    </tr>\n",
       "  </thead>\n",
       "  <tbody>\n",
       "    <tr>\n",
       "      <th>0</th>\n",
       "      <td>US</td>\n",
       "      <td>6514145401</td>\n",
       "    </tr>\n",
       "  </tbody>\n",
       "</table>\n",
       "</div>"
      ],
      "text/plain": [
       "  Country       phone\n",
       "0      US  6514145401"
      ]
     },
     "execution_count": 23,
     "metadata": {},
     "output_type": "execute_result"
    }
   ],
   "source": [
    "df"
   ]
  },
  {
   "cell_type": "code",
   "execution_count": 24,
   "id": "57657257",
   "metadata": {},
   "outputs": [],
   "source": [
    "df['Phone std'] = df.apply(lambda row: standardizePhone(row['phone'], row['Country']), axis=1)"
   ]
  },
  {
   "cell_type": "code",
   "execution_count": 25,
   "id": "17bf4224",
   "metadata": {},
   "outputs": [
    {
     "data": {
      "text/html": [
       "<div>\n",
       "<style scoped>\n",
       "    .dataframe tbody tr th:only-of-type {\n",
       "        vertical-align: middle;\n",
       "    }\n",
       "\n",
       "    .dataframe tbody tr th {\n",
       "        vertical-align: top;\n",
       "    }\n",
       "\n",
       "    .dataframe thead th {\n",
       "        text-align: right;\n",
       "    }\n",
       "</style>\n",
       "<table border=\"1\" class=\"dataframe\">\n",
       "  <thead>\n",
       "    <tr style=\"text-align: right;\">\n",
       "      <th></th>\n",
       "      <th>Country</th>\n",
       "      <th>phone</th>\n",
       "      <th>Phone std</th>\n",
       "    </tr>\n",
       "  </thead>\n",
       "  <tbody>\n",
       "    <tr>\n",
       "      <th>0</th>\n",
       "      <td>US</td>\n",
       "      <td>6514145401</td>\n",
       "      <td>+1 6514145401</td>\n",
       "    </tr>\n",
       "  </tbody>\n",
       "</table>\n",
       "</div>"
      ],
      "text/plain": [
       "  Country       phone      Phone std\n",
       "0      US  6514145401  +1 6514145401"
      ]
     },
     "execution_count": 25,
     "metadata": {},
     "output_type": "execute_result"
    }
   ],
   "source": [
    "df"
   ]
  },
  {
   "cell_type": "code",
   "execution_count": 18,
   "id": "cb4c06f3",
   "metadata": {},
   "outputs": [],
   "source": [
    "df.to_csv('../phoneStd.csv')"
   ]
  },
  {
   "cell_type": "code",
   "execution_count": null,
   "id": "a9f3150c",
   "metadata": {},
   "outputs": [],
   "source": []
  }
 ],
 "metadata": {
  "kernelspec": {
   "display_name": "cleansing",
   "language": "python",
   "name": "python3"
  },
  "language_info": {
   "codemirror_mode": {
    "name": "ipython",
    "version": 3
   },
   "file_extension": ".py",
   "mimetype": "text/x-python",
   "name": "python",
   "nbconvert_exporter": "python",
   "pygments_lexer": "ipython3",
   "version": "3.13.2"
  }
 },
 "nbformat": 4,
 "nbformat_minor": 5
}
