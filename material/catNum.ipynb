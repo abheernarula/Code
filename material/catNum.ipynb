{
 "cells": [
  {
   "cell_type": "code",
   "execution_count": 48,
   "id": "7ff0d40a",
   "metadata": {},
   "outputs": [],
   "source": [
    "import pandas as pd"
   ]
  },
  {
   "cell_type": "code",
   "execution_count": 49,
   "id": "bea1bf39",
   "metadata": {},
   "outputs": [],
   "source": [
    "from tqdm import tqdm\n",
    "tqdm.pandas()"
   ]
  },
  {
   "cell_type": "code",
   "execution_count": 50,
   "id": "5643fd24",
   "metadata": {},
   "outputs": [],
   "source": [
    "df = pd.read_excel('zsc1_po.xlsx')"
   ]
  },
  {
   "cell_type": "code",
   "execution_count": 51,
   "id": "2175b68b",
   "metadata": {},
   "outputs": [
    {
     "data": {
      "text/html": [
       "<div>\n",
       "<style scoped>\n",
       "    .dataframe tbody tr th:only-of-type {\n",
       "        vertical-align: middle;\n",
       "    }\n",
       "\n",
       "    .dataframe tbody tr th {\n",
       "        vertical-align: top;\n",
       "    }\n",
       "\n",
       "    .dataframe thead th {\n",
       "        text-align: right;\n",
       "    }\n",
       "</style>\n",
       "<table border=\"1\" class=\"dataframe\">\n",
       "  <thead>\n",
       "    <tr style=\"text-align: right;\">\n",
       "      <th></th>\n",
       "      <th>Material</th>\n",
       "      <th>Purchase Order Text</th>\n",
       "    </tr>\n",
       "  </thead>\n",
       "  <tbody>\n",
       "    <tr>\n",
       "      <th>0</th>\n",
       "      <td>550001195</td>\n",
       "      <td>Ascentis express (150*4.6)mm  2.7um, P.N. U...</td>\n",
       "    </tr>\n",
       "    <tr>\n",
       "      <th>1</th>\n",
       "      <td>550014388</td>\n",
       "      <td>MO TGF B 1 COATED ELISA, 96T- BMS608-4</td>\n",
       "    </tr>\n",
       "    <tr>\n",
       "      <th>2</th>\n",
       "      <td>550011318</td>\n",
       "      <td>bottle-top vacuum filters</td>\n",
       "    </tr>\n",
       "    <tr>\n",
       "      <th>3</th>\n",
       "      <td>550024502</td>\n",
       "      <td>Primary stage Depth Filter 10SP02A  E1020FSA10...</td>\n",
       "    </tr>\n",
       "    <tr>\n",
       "      <th>4</th>\n",
       "      <td>550014441</td>\n",
       "      <td>Elemental Impurities according to ICH Q3D oral...</td>\n",
       "    </tr>\n",
       "  </tbody>\n",
       "</table>\n",
       "</div>"
      ],
      "text/plain": [
       "    Material                                Purchase Order Text\n",
       "0  550001195     Ascentis express (150*4.6)mm  2.7um, P.N. U...\n",
       "1  550014388             MO TGF B 1 COATED ELISA, 96T- BMS608-4\n",
       "2  550011318                          bottle-top vacuum filters\n",
       "3  550024502  Primary stage Depth Filter 10SP02A  E1020FSA10...\n",
       "4  550014441  Elemental Impurities according to ICH Q3D oral..."
      ]
     },
     "execution_count": 51,
     "metadata": {},
     "output_type": "execute_result"
    }
   ],
   "source": [
    "df.head()"
   ]
  },
  {
   "cell_type": "code",
   "execution_count": 52,
   "id": "18454cdc",
   "metadata": {},
   "outputs": [],
   "source": [
    "import re"
   ]
  },
  {
   "cell_type": "code",
   "execution_count": 53,
   "id": "30d8db31",
   "metadata": {},
   "outputs": [],
   "source": [
    "s = 'Ã‚Â Rotor Seal; Cat#228-52139'"
   ]
  },
  {
   "cell_type": "code",
   "execution_count": 54,
   "id": "75a7523d",
   "metadata": {},
   "outputs": [
    {
     "data": {
      "text/plain": [
       "True"
      ]
     },
     "execution_count": 54,
     "metadata": {},
     "output_type": "execute_result"
    }
   ],
   "source": [
    "s.lower().__contains__('cat')"
   ]
  },
  {
   "cell_type": "code",
   "execution_count": null,
   "id": "a11f699a",
   "metadata": {},
   "outputs": [],
   "source": []
  },
  {
   "cell_type": "code",
   "execution_count": null,
   "id": "58d872e4",
   "metadata": {},
   "outputs": [],
   "source": [
    "def findCat(text: str):\n",
    "    if text.lower().__contains__('cat'):\n",
    "        return text[text.lower().index('cat'):]\n",
    "    elif text.lower().__contains__('p.n'):\n",
    "        return text[text.lower().index('p.n'):]\n",
    "    elif text.lower().__contains__('p/n'):\n",
    "        return text[text.lower().index('p/n')]\n",
    "    else:\n",
    "        return ''\n",
    "\n",
    "# P.N\n",
    "# P/N"
   ]
  },
  {
   "cell_type": "code",
   "execution_count": 61,
   "id": "be0bee14",
   "metadata": {},
   "outputs": [
    {
     "name": "stderr",
     "output_type": "stream",
     "text": [
      "100%|██████████| 16885/16885 [00:00<00:00, 164835.29it/s]\n"
     ]
    }
   ],
   "source": [
    "df['catalog'] = df.progress_apply(lambda row: findCat(str(row['Purchase Order Text'])), axis=1)"
   ]
  },
  {
   "cell_type": "code",
   "execution_count": 62,
   "id": "244f28a7",
   "metadata": {},
   "outputs": [
    {
     "data": {
      "text/html": [
       "<div>\n",
       "<style scoped>\n",
       "    .dataframe tbody tr th:only-of-type {\n",
       "        vertical-align: middle;\n",
       "    }\n",
       "\n",
       "    .dataframe tbody tr th {\n",
       "        vertical-align: top;\n",
       "    }\n",
       "\n",
       "    .dataframe thead th {\n",
       "        text-align: right;\n",
       "    }\n",
       "</style>\n",
       "<table border=\"1\" class=\"dataframe\">\n",
       "  <thead>\n",
       "    <tr style=\"text-align: right;\">\n",
       "      <th></th>\n",
       "      <th>Material</th>\n",
       "      <th>Purchase Order Text</th>\n",
       "      <th>catalog</th>\n",
       "    </tr>\n",
       "  </thead>\n",
       "  <tbody>\n",
       "    <tr>\n",
       "      <th>0</th>\n",
       "      <td>550001195</td>\n",
       "      <td>Ascentis express (150*4.6)mm  2.7um, P.N. U...</td>\n",
       "      <td>cat # 53829-U</td>\n",
       "    </tr>\n",
       "    <tr>\n",
       "      <th>1</th>\n",
       "      <td>550014388</td>\n",
       "      <td>MO TGF B 1 COATED ELISA, 96T- BMS608-4</td>\n",
       "      <td></td>\n",
       "    </tr>\n",
       "    <tr>\n",
       "      <th>2</th>\n",
       "      <td>550011318</td>\n",
       "      <td>bottle-top vacuum filters</td>\n",
       "      <td></td>\n",
       "    </tr>\n",
       "    <tr>\n",
       "      <th>3</th>\n",
       "      <td>550024502</td>\n",
       "      <td>Primary stage Depth Filter 10SP02A  E1020FSA10...</td>\n",
       "      <td></td>\n",
       "    </tr>\n",
       "    <tr>\n",
       "      <th>4</th>\n",
       "      <td>550014441</td>\n",
       "      <td>Elemental Impurities according to ICH Q3D oral...</td>\n",
       "      <td></td>\n",
       "    </tr>\n",
       "    <tr>\n",
       "      <th>...</th>\n",
       "      <td>...</td>\n",
       "      <td>...</td>\n",
       "      <td>...</td>\n",
       "    </tr>\n",
       "    <tr>\n",
       "      <th>16880</th>\n",
       "      <td>550015596</td>\n",
       "      <td>β-N-ACETYLGLUCOSAMINIDASE</td>\n",
       "      <td></td>\n",
       "    </tr>\n",
       "    <tr>\n",
       "      <th>16881</th>\n",
       "      <td>550018901</td>\n",
       "      <td>β-Nicotinamide adenine dinucleotide 2′-phospha...</td>\n",
       "      <td>Catlog No-N6505,Pack size-250mg,Make -Sigma</td>\n",
       "    </tr>\n",
       "    <tr>\n",
       "      <th>16882</th>\n",
       "      <td>550010045</td>\n",
       "      <td>β-Nicotinamide Adenine Dinucleotide Phosphate ...</td>\n",
       "      <td>CAT# 99197</td>\n",
       "    </tr>\n",
       "    <tr>\n",
       "      <th>16883</th>\n",
       "      <td>550024970</td>\n",
       "      <td>β-Nicotinamide adenine dinucleotide, reduced d...</td>\n",
       "      <td>Cat NO: 43420-1G</td>\n",
       "    </tr>\n",
       "    <tr>\n",
       "      <th>16884</th>\n",
       "      <td>550019259</td>\n",
       "      <td>λ DNA EcoRI/HindIII digest(Cat:SM0191)</td>\n",
       "      <td>Cat:SM0191)</td>\n",
       "    </tr>\n",
       "  </tbody>\n",
       "</table>\n",
       "<p>16885 rows × 3 columns</p>\n",
       "</div>"
      ],
      "text/plain": [
       "        Material                                Purchase Order Text  \\\n",
       "0      550001195     Ascentis express (150*4.6)mm  2.7um, P.N. U...   \n",
       "1      550014388             MO TGF B 1 COATED ELISA, 96T- BMS608-4   \n",
       "2      550011318                          bottle-top vacuum filters   \n",
       "3      550024502  Primary stage Depth Filter 10SP02A  E1020FSA10...   \n",
       "4      550014441  Elemental Impurities according to ICH Q3D oral...   \n",
       "...          ...                                                ...   \n",
       "16880  550015596                          β-N-ACETYLGLUCOSAMINIDASE   \n",
       "16881  550018901  β-Nicotinamide adenine dinucleotide 2′-phospha...   \n",
       "16882  550010045  β-Nicotinamide Adenine Dinucleotide Phosphate ...   \n",
       "16883  550024970  β-Nicotinamide adenine dinucleotide, reduced d...   \n",
       "16884  550019259             λ DNA EcoRI/HindIII digest(Cat:SM0191)   \n",
       "\n",
       "                                           catalog  \n",
       "0                                    cat # 53829-U  \n",
       "1                                                   \n",
       "2                                                   \n",
       "3                                                   \n",
       "4                                                   \n",
       "...                                            ...  \n",
       "16880                                               \n",
       "16881  Catlog No-N6505,Pack size-250mg,Make -Sigma  \n",
       "16882                                   CAT# 99197  \n",
       "16883                             Cat NO: 43420-1G  \n",
       "16884                                  Cat:SM0191)  \n",
       "\n",
       "[16885 rows x 3 columns]"
      ]
     },
     "execution_count": 62,
     "metadata": {},
     "output_type": "execute_result"
    }
   ],
   "source": [
    "df"
   ]
  },
  {
   "cell_type": "code",
   "execution_count": 64,
   "id": "a1135943",
   "metadata": {},
   "outputs": [],
   "source": [
    "df.to_csv('catResult.csv')"
   ]
  },
  {
   "cell_type": "code",
   "execution_count": null,
   "id": "a1cb326e",
   "metadata": {},
   "outputs": [],
   "source": []
  },
  {
   "cell_type": "code",
   "execution_count": null,
   "id": "176796af",
   "metadata": {},
   "outputs": [],
   "source": []
  }
 ],
 "metadata": {
  "kernelspec": {
   "display_name": "cleansing",
   "language": "python",
   "name": "python3"
  },
  "language_info": {
   "codemirror_mode": {
    "name": "ipython",
    "version": 3
   },
   "file_extension": ".py",
   "mimetype": "text/x-python",
   "name": "python",
   "nbconvert_exporter": "python",
   "pygments_lexer": "ipython3",
   "version": "3.13.2"
  }
 },
 "nbformat": 4,
 "nbformat_minor": 5
}
