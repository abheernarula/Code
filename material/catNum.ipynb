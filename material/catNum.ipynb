{
 "cells": [
  {
   "cell_type": "code",
   "execution_count": 1,
   "id": "7ff0d40a",
   "metadata": {},
   "outputs": [],
   "source": [
    "import pandas as pd"
   ]
  },
  {
   "cell_type": "code",
   "execution_count": 2,
   "id": "bea1bf39",
   "metadata": {},
   "outputs": [],
   "source": [
    "from tqdm import tqdm\n",
    "tqdm.pandas()"
   ]
  },
  {
   "cell_type": "code",
   "execution_count": 9,
   "id": "5643fd24",
   "metadata": {},
   "outputs": [],
   "source": [
    "df = pd.read_excel('../../Material/ZSC2.xlsx', sheet_name='POTEXT')"
   ]
  },
  {
   "cell_type": "code",
   "execution_count": 11,
   "id": "2175b68b",
   "metadata": {},
   "outputs": [
    {
     "data": {
      "text/plain": [
       "Material                    0\n",
       "Created By                  0\n",
       "Created On                  0\n",
       "Client lvl              24883\n",
       "Mat. Type                   0\n",
       "Industry                    0\n",
       "Matl Group                  0\n",
       "Unit                        0\n",
       "PV key                  23323\n",
       "Material Description        0\n",
       "Purchase Order Text       185\n",
       "dtype: int64"
      ]
     },
     "execution_count": 11,
     "metadata": {},
     "output_type": "execute_result"
    }
   ],
   "source": [
    "df.isnull().sum()"
   ]
  },
  {
   "cell_type": "code",
   "execution_count": 12,
   "id": "18454cdc",
   "metadata": {},
   "outputs": [],
   "source": [
    "import re"
   ]
  },
  {
   "cell_type": "code",
   "execution_count": 13,
   "id": "30d8db31",
   "metadata": {},
   "outputs": [],
   "source": [
    "s = 'Ã‚Â Rotor Seal; Cat#228-52139'"
   ]
  },
  {
   "cell_type": "code",
   "execution_count": 14,
   "id": "7ba3ce4e",
   "metadata": {},
   "outputs": [
    {
     "name": "stderr",
     "output_type": "stream",
     "text": [
      "<>:1: SyntaxWarning: invalid escape sequence '\\d'\n",
      "<>:1: SyntaxWarning: invalid escape sequence '\\d'\n",
      "C:\\Users\\abhena\\AppData\\Local\\Temp\\ipykernel_24436\\2446753449.py:1: SyntaxWarning: invalid escape sequence '\\d'\n",
      "  re.search('\\d', s.lower()).start()\n"
     ]
    },
    {
     "data": {
      "text/plain": [
       "20"
      ]
     },
     "execution_count": 14,
     "metadata": {},
     "output_type": "execute_result"
    }
   ],
   "source": [
    "re.search('\\d', s.lower()).start()"
   ]
  },
  {
   "cell_type": "code",
   "execution_count": 15,
   "id": "75a7523d",
   "metadata": {},
   "outputs": [
    {
     "data": {
      "text/plain": [
       "20"
      ]
     },
     "execution_count": 15,
     "metadata": {},
     "output_type": "execute_result"
    }
   ],
   "source": [
    "s.lower().index('2')"
   ]
  },
  {
   "cell_type": "code",
   "execution_count": null,
   "id": "a11f699a",
   "metadata": {},
   "outputs": [],
   "source": []
  },
  {
   "cell_type": "code",
   "execution_count": 16,
   "id": "2da0060a",
   "metadata": {},
   "outputs": [
    {
     "name": "stderr",
     "output_type": "stream",
     "text": [
      "<>:2: SyntaxWarning: invalid escape sequence '\\d'\n",
      "<>:2: SyntaxWarning: invalid escape sequence '\\d'\n",
      "C:\\Users\\abhena\\AppData\\Local\\Temp\\ipykernel_24436\\653825650.py:2: SyntaxWarning: invalid escape sequence '\\d'\n",
      "  match = re.search('\\d', text.lower())\n"
     ]
    }
   ],
   "source": [
    "def reMatch(text):\n",
    "    match = re.search('\\d', text.lower())\n",
    "    return match.start() if match else -1"
   ]
  },
  {
   "cell_type": "code",
   "execution_count": 17,
   "id": "58d872e4",
   "metadata": {},
   "outputs": [],
   "source": [
    "def findCat(text: str):\n",
    "    try:\n",
    "        if text.lower().__contains__('cat'):\n",
    "            return text[text.lower().index('cat'):]\n",
    "        elif text.lower().__contains__('p.n'):\n",
    "            return text[text.lower().index('p.n'):]\n",
    "        elif text.lower().__contains__('p/n'):\n",
    "            return text[text.lower().index('p/n')]\n",
    "        elif text.lower().__contains__('part number'):\n",
    "            return text[text.lower().index('part number')]\n",
    "        elif text.lower().__contains__('item number'):\n",
    "            return text[text.lower().index('item number')]\n",
    "        elif text.lower().__contains__('itemnumber'):\n",
    "            return text[text.lower().index('itemnumber')]\n",
    "        elif text.lower().__contains__('partnumber'):\n",
    "            return text[text.lower().index('partnumber')]\n",
    "        elif text.lower().__contains__('product code'):\n",
    "            return text[text.lower().index('product code')]\n",
    "        elif text.lower().__contains__('part no'):\n",
    "            return text[text.lower().index('part no')]\n",
    "        else:\n",
    "            # substr = text[reMatch(text.lower())]\n",
    "            # while len(substr) > 20:\n",
    "            #     substr = substr[reMatch(substr.lower())]\n",
    "            # return substr\n",
    "            return ''\n",
    "    except:\n",
    "        return ''        "
   ]
  },
  {
   "cell_type": "code",
   "execution_count": 18,
   "id": "be0bee14",
   "metadata": {},
   "outputs": [
    {
     "name": "stderr",
     "output_type": "stream",
     "text": [
      "100%|██████████| 25716/25716 [00:00<00:00, 102304.08it/s]\n"
     ]
    }
   ],
   "source": [
    "df['catalog'] = df.progress_apply(lambda row: findCat(str(row['Purchase Order Text'])), axis=1)"
   ]
  },
  {
   "cell_type": "code",
   "execution_count": 19,
   "id": "244f28a7",
   "metadata": {},
   "outputs": [
    {
     "data": {
      "text/plain": [
       "0                    \n",
       "1                    \n",
       "2                    \n",
       "3                    \n",
       "4                    \n",
       "             ...     \n",
       "25711    cat#MAB46991\n",
       "25712                \n",
       "25713                \n",
       "25714                \n",
       "25715                \n",
       "Name: catalog, Length: 25716, dtype: object"
      ]
     },
     "execution_count": 19,
     "metadata": {},
     "output_type": "execute_result"
    }
   ],
   "source": [
    "df['catalog']"
   ]
  },
  {
   "cell_type": "code",
   "execution_count": 20,
   "id": "6e56a8df",
   "metadata": {},
   "outputs": [
    {
     "data": {
      "text/plain": [
       "Material                    0\n",
       "Created By                  0\n",
       "Created On                  0\n",
       "Client lvl              24883\n",
       "Mat. Type                   0\n",
       "Industry                    0\n",
       "Matl Group                  0\n",
       "Unit                        0\n",
       "PV key                  23323\n",
       "Material Description        0\n",
       "Purchase Order Text       185\n",
       "catalog                     0\n",
       "dtype: int64"
      ]
     },
     "execution_count": 20,
     "metadata": {},
     "output_type": "execute_result"
    }
   ],
   "source": [
    "df.isnull().sum()"
   ]
  },
  {
   "cell_type": "code",
   "execution_count": 22,
   "id": "a1135943",
   "metadata": {},
   "outputs": [],
   "source": [
    "df.to_csv('zsc2CatResult.csv')"
   ]
  },
  {
   "cell_type": "code",
   "execution_count": null,
   "id": "a1cb326e",
   "metadata": {},
   "outputs": [],
   "source": []
  },
  {
   "cell_type": "code",
   "execution_count": null,
   "id": "176796af",
   "metadata": {},
   "outputs": [],
   "source": []
  }
 ],
 "metadata": {
  "kernelspec": {
   "display_name": "cleansing",
   "language": "python",
   "name": "python3"
  },
  "language_info": {
   "codemirror_mode": {
    "name": "ipython",
    "version": 3
   },
   "file_extension": ".py",
   "mimetype": "text/x-python",
   "name": "python",
   "nbconvert_exporter": "python",
   "pygments_lexer": "ipython3",
   "version": "3.13.2"
  }
 },
 "nbformat": 4,
 "nbformat_minor": 5
}
