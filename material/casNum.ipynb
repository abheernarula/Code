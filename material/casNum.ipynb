{
 "cells": [
  {
   "cell_type": "code",
   "execution_count": 1,
   "id": "7ff0d40a",
   "metadata": {},
   "outputs": [],
   "source": [
    "import pandas as pd"
   ]
  },
  {
   "cell_type": "code",
   "execution_count": 2,
   "id": "bea1bf39",
   "metadata": {},
   "outputs": [],
   "source": [
    "from tqdm import tqdm\n",
    "tqdm.pandas()"
   ]
  },
  {
   "cell_type": "code",
   "execution_count": 3,
   "id": "5643fd24",
   "metadata": {},
   "outputs": [],
   "source": [
    "df = pd.read_excel('../../Material/ZRDM.xlsx', sheet_name='MARA')"
   ]
  },
  {
   "cell_type": "code",
   "execution_count": 10,
   "id": "19a7e3b6",
   "metadata": {},
   "outputs": [
    {
     "data": {
      "text/plain": [
       "Index(['Material', 'Created On', 'Created By', 'Last Change', 'Changed By',\n",
       "       'Compl. maint. status', 'Maintenance status', 'DF at client level',\n",
       "       'Material Type', 'Industry',\n",
       "       ...\n",
       "       'Purchase Order Text', 'Short=Long', 'Count Short', 'Count long',\n",
       "       'Created for/extended to GMP Plant', 'CAS number (pharm.)',\n",
       "       'Countif CAS', 'Blocked in Plant level', 'Blocked in client level',\n",
       "       'Blocking indicators'],\n",
       "      dtype='object', length=251)"
      ]
     },
     "execution_count": 10,
     "metadata": {},
     "output_type": "execute_result"
    }
   ],
   "source": [
    "df.columns"
   ]
  },
  {
   "cell_type": "code",
   "execution_count": 11,
   "id": "2175b68b",
   "metadata": {},
   "outputs": [],
   "source": [
    "po = df[['Material', 'Purchase Order Text', 'CAS number (pharm.)']]"
   ]
  },
  {
   "cell_type": "code",
   "execution_count": 12,
   "id": "0e26e5b1",
   "metadata": {},
   "outputs": [
    {
     "data": {
      "text/html": [
       "<div>\n",
       "<style scoped>\n",
       "    .dataframe tbody tr th:only-of-type {\n",
       "        vertical-align: middle;\n",
       "    }\n",
       "\n",
       "    .dataframe tbody tr th {\n",
       "        vertical-align: top;\n",
       "    }\n",
       "\n",
       "    .dataframe thead th {\n",
       "        text-align: right;\n",
       "    }\n",
       "</style>\n",
       "<table border=\"1\" class=\"dataframe\">\n",
       "  <thead>\n",
       "    <tr style=\"text-align: right;\">\n",
       "      <th></th>\n",
       "      <th>Material</th>\n",
       "      <th>Purchase Order Text</th>\n",
       "      <th>CAS number (pharm.)</th>\n",
       "    </tr>\n",
       "  </thead>\n",
       "  <tbody>\n",
       "    <tr>\n",
       "      <th>0</th>\n",
       "      <td>630000012</td>\n",
       "      <td>(S)-(+)-2-(METHOXYMETHYL)PYRROLIDINE</td>\n",
       "      <td>63126-47-6</td>\n",
       "    </tr>\n",
       "    <tr>\n",
       "      <th>1</th>\n",
       "      <td>630000013</td>\n",
       "      <td>1-IODO-2-NAPHTHOL</td>\n",
       "      <td>2033-42-3</td>\n",
       "    </tr>\n",
       "    <tr>\n",
       "      <th>2</th>\n",
       "      <td>630000017</td>\n",
       "      <td>3-AMINO-1H-1,2,4-TRIAZOLE</td>\n",
       "      <td>61-82-5</td>\n",
       "    </tr>\n",
       "    <tr>\n",
       "      <th>3</th>\n",
       "      <td>630000018</td>\n",
       "      <td>3-AMINOPIPERIDINE 3-BOC PROTECTED</td>\n",
       "      <td>172603-05-3</td>\n",
       "    </tr>\n",
       "    <tr>\n",
       "      <th>4</th>\n",
       "      <td>630000020</td>\n",
       "      <td>3-BROMO-5-ETHOXYPYRIDINE</td>\n",
       "      <td>17117-17-8</td>\n",
       "    </tr>\n",
       "  </tbody>\n",
       "</table>\n",
       "</div>"
      ],
      "text/plain": [
       "    Material                     Purchase Order Text CAS number (pharm.)\n",
       "0  630000012   (S)-(+)-2-(METHOXYMETHYL)PYRROLIDINE           63126-47-6\n",
       "1  630000013                      1-IODO-2-NAPHTHOL            2033-42-3\n",
       "2  630000017              3-AMINO-1H-1,2,4-TRIAZOLE              61-82-5\n",
       "3  630000018       3-AMINOPIPERIDINE 3-BOC PROTECTED         172603-05-3\n",
       "4  630000020               3-BROMO-5-ETHOXYPYRIDINE           17117-17-8"
      ]
     },
     "execution_count": 12,
     "metadata": {},
     "output_type": "execute_result"
    }
   ],
   "source": [
    "po.head()"
   ]
  },
  {
   "cell_type": "code",
   "execution_count": 13,
   "id": "18454cdc",
   "metadata": {},
   "outputs": [],
   "source": [
    "import re"
   ]
  },
  {
   "cell_type": "code",
   "execution_count": 17,
   "id": "2da0060a",
   "metadata": {},
   "outputs": [
    {
     "name": "stderr",
     "output_type": "stream",
     "text": [
      "<>:2: SyntaxWarning: invalid escape sequence '\\d'\n",
      "<>:2: SyntaxWarning: invalid escape sequence '\\d'\n",
      "C:\\Users\\abhena\\AppData\\Local\\Temp\\ipykernel_25972\\653825650.py:2: SyntaxWarning: invalid escape sequence '\\d'\n",
      "  match = re.search('\\d', text.lower())\n"
     ]
    }
   ],
   "source": [
    "def reMatch(text):\n",
    "    match = re.search('\\d', text.lower())\n",
    "    return match.start() if match else -1"
   ]
  },
  {
   "cell_type": "code",
   "execution_count": 18,
   "id": "58d872e4",
   "metadata": {},
   "outputs": [],
   "source": [
    "def findCat(text: str):\n",
    "    try:\n",
    "        if text.lower().__contains__('cas'):\n",
    "            return text[text.lower().index('cas'):]\n",
    "        elif text.lower().__contains__('p.n'):\n",
    "            return text[text.lower().index('p.n'):]\n",
    "        elif text.lower().__contains__('p/n'):\n",
    "            return text[text.lower().index('p/n')]\n",
    "        elif text.lower().__contains__('part number'):\n",
    "            return text[text.lower().index('part number')]\n",
    "        elif text.lower().__contains__('item number'):\n",
    "            return text[text.lower().index('item number')]\n",
    "        elif text.lower().__contains__('itemnumber'):\n",
    "            return text[text.lower().index('itemnumber')]\n",
    "        elif text.lower().__contains__('partnumber'):\n",
    "            return text[text.lower().index('partnumber')]\n",
    "        elif text.lower().__contains__('product code'):\n",
    "            return text[text.lower().index('product code')]\n",
    "        elif text.lower().__contains__('part no'):\n",
    "            return text[text.lower().index('part no')]\n",
    "        else:\n",
    "            # substr = text[reMatch(text.lower())]\n",
    "            # while len(substr) > 20:\n",
    "            #     substr = substr[reMatch(substr.lower())]\n",
    "            # return substr\n",
    "            return ''\n",
    "    except:\n",
    "        return ''        "
   ]
  },
  {
   "cell_type": "code",
   "execution_count": 19,
   "id": "be0bee14",
   "metadata": {},
   "outputs": [
    {
     "name": "stderr",
     "output_type": "stream",
     "text": [
      "100%|██████████| 62493/62493 [00:03<00:00, 15802.14it/s]\n"
     ]
    }
   ],
   "source": [
    "df['casIfAvailable'] = df.progress_apply(lambda row: findCat(str(row['Purchase Order Text'])), axis=1)"
   ]
  },
  {
   "cell_type": "code",
   "execution_count": 23,
   "id": "244f28a7",
   "metadata": {},
   "outputs": [
    {
     "data": {
      "text/plain": [
       "22"
      ]
     },
     "execution_count": 23,
     "metadata": {},
     "output_type": "execute_result"
    }
   ],
   "source": [
    "df['casIfAvailable'].nunique()"
   ]
  },
  {
   "cell_type": "code",
   "execution_count": 24,
   "id": "a1135943",
   "metadata": {},
   "outputs": [],
   "source": [
    "df.to_csv('casResult.csv')"
   ]
  },
  {
   "cell_type": "code",
   "execution_count": null,
   "id": "9857afa9",
   "metadata": {},
   "outputs": [],
   "source": []
  }
 ],
 "metadata": {
  "kernelspec": {
   "display_name": "cleansing",
   "language": "python",
   "name": "python3"
  },
  "language_info": {
   "codemirror_mode": {
    "name": "ipython",
    "version": 3
   },
   "file_extension": ".py",
   "mimetype": "text/x-python",
   "name": "python",
   "nbconvert_exporter": "python",
   "pygments_lexer": "ipython3",
   "version": "3.13.2"
  }
 },
 "nbformat": 4,
 "nbformat_minor": 5
}
